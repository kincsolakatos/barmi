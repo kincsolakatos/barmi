{
    "metadata": {
        "kernelspec": {
            "name": "SQL",
            "display_name": "SQL",
            "language": "sql"
        },
        "language_info": {
            "name": "sql",
            "version": ""
        }
    },
    "nbformat_minor": 2,
    "nbformat": 4,
    "cells": [
        {
            "cell_type": "code",
            "source": [
                "select\r\n",
                "    sz.SZOBA_ID,\r\n",
                "    count(*)\r\n",
                "from Szoba sz left join Foglalas f on sz.SZOBA_ID = f.SZOBA_FK\r\n",
                "group by sz.SZOBA_ID"
            ],
            "metadata": {
                "azdata_cell_guid": "a5ad24c1-5a09-4951-8e35-4dc708ac36f8",
                "language": "sql"
            },
            "outputs": [
                {
                    "output_type": "display_data",
                    "data": {
                        "text/html": "(294 rows affected)"
                    },
                    "metadata": {}
                },
                {
                    "output_type": "display_data",
                    "data": {
                        "text/html": "Total execution time: 00:00:00.048"
                    },
                    "metadata": {}
                },
                {
                    "output_type": "execute_result",
                    "execution_count": 3,
                    "data": {
                        "application/vnd.dataresource+json": {
                            "schema": {
                                "fields": [
                                    {
                                        "name": "SZOBA_ID"
                                    },
                                    {
                                        "name": "(No column name)"
                                    }
                                ]
                            },
                            "data": [
                                {
                                    "SZOBA_ID": "1",
                                    "(No column name)": "8"
                                },
                                {
                                    "SZOBA_ID": "2",
                                    "(No column name)": "4"
                                },
                                {
                                    "SZOBA_ID": "3",
                                    "(No column name)": "8"
                                },
                                {
                                    "SZOBA_ID": "4",
                                    "(No column name)": "6"
                                },
                                {
                                    "SZOBA_ID": "5",
                                    "(No column name)": "4"
                                },
                                {
                                    "SZOBA_ID": "6",
                                    "(No column name)": "6"
                                },
                                {
                                    "SZOBA_ID": "7",
                                    "(No column name)": "6"
                                },
                                {
                                    "SZOBA_ID": "8",
                                    "(No column name)": "5"
                                },
                                {
                                    "SZOBA_ID": "9",
                                    "(No column name)": "6"
                                },
                                {
                                    "SZOBA_ID": "10",
                                    "(No column name)": "4"
                                },
                                {
                                    "SZOBA_ID": "11",
                                    "(No column name)": "4"
                                },
                                {
                                    "SZOBA_ID": "12",
                                    "(No column name)": "9"
                                },
                                {
                                    "SZOBA_ID": "13",
                                    "(No column name)": "4"
                                },
                                {
                                    "SZOBA_ID": "14",
                                    "(No column name)": "3"
                                },
                                {
                                    "SZOBA_ID": "15",
                                    "(No column name)": "6"
                                },
                                {
                                    "SZOBA_ID": "16",
                                    "(No column name)": "5"
                                },
                                {
                                    "SZOBA_ID": "17",
                                    "(No column name)": "6"
                                },
                                {
                                    "SZOBA_ID": "18",
                                    "(No column name)": "6"
                                },
                                {
                                    "SZOBA_ID": "19",
                                    "(No column name)": "6"
                                },
                                {
                                    "SZOBA_ID": "20",
                                    "(No column name)": "5"
                                },
                                {
                                    "SZOBA_ID": "21",
                                    "(No column name)": "4"
                                },
                                {
                                    "SZOBA_ID": "22",
                                    "(No column name)": "6"
                                },
                                {
                                    "SZOBA_ID": "23",
                                    "(No column name)": "3"
                                },
                                {
                                    "SZOBA_ID": "24",
                                    "(No column name)": "3"
                                },
                                {
                                    "SZOBA_ID": "25",
                                    "(No column name)": "2"
                                },
                                {
                                    "SZOBA_ID": "26",
                                    "(No column name)": "2"
                                },
                                {
                                    "SZOBA_ID": "27",
                                    "(No column name)": "7"
                                },
                                {
                                    "SZOBA_ID": "28",
                                    "(No column name)": "6"
                                },
                                {
                                    "SZOBA_ID": "29",
                                    "(No column name)": "6"
                                },
                                {
                                    "SZOBA_ID": "30",
                                    "(No column name)": "3"
                                },
                                {
                                    "SZOBA_ID": "31",
                                    "(No column name)": "3"
                                },
                                {
                                    "SZOBA_ID": "32",
                                    "(No column name)": "1"
                                },
                                {
                                    "SZOBA_ID": "33",
                                    "(No column name)": "6"
                                },
                                {
                                    "SZOBA_ID": "34",
                                    "(No column name)": "4"
                                },
                                {
                                    "SZOBA_ID": "35",
                                    "(No column name)": "9"
                                },
                                {
                                    "SZOBA_ID": "36",
                                    "(No column name)": "6"
                                },
                                {
                                    "SZOBA_ID": "37",
                                    "(No column name)": "3"
                                },
                                {
                                    "SZOBA_ID": "38",
                                    "(No column name)": "8"
                                },
                                {
                                    "SZOBA_ID": "39",
                                    "(No column name)": "7"
                                },
                                {
                                    "SZOBA_ID": "40",
                                    "(No column name)": "4"
                                },
                                {
                                    "SZOBA_ID": "41",
                                    "(No column name)": "2"
                                },
                                {
                                    "SZOBA_ID": "42",
                                    "(No column name)": "6"
                                },
                                {
                                    "SZOBA_ID": "43",
                                    "(No column name)": "8"
                                },
                                {
                                    "SZOBA_ID": "44",
                                    "(No column name)": "6"
                                },
                                {
                                    "SZOBA_ID": "45",
                                    "(No column name)": "5"
                                },
                                {
                                    "SZOBA_ID": "46",
                                    "(No column name)": "4"
                                },
                                {
                                    "SZOBA_ID": "47",
                                    "(No column name)": "2"
                                },
                                {
                                    "SZOBA_ID": "48",
                                    "(No column name)": "9"
                                },
                                {
                                    "SZOBA_ID": "49",
                                    "(No column name)": "7"
                                },
                                {
                                    "SZOBA_ID": "50",
                                    "(No column name)": "4"
                                },
                                {
                                    "SZOBA_ID": "51",
                                    "(No column name)": "5"
                                },
                                {
                                    "SZOBA_ID": "52",
                                    "(No column name)": "5"
                                },
                                {
                                    "SZOBA_ID": "53",
                                    "(No column name)": "2"
                                },
                                {
                                    "SZOBA_ID": "54",
                                    "(No column name)": "6"
                                },
                                {
                                    "SZOBA_ID": "55",
                                    "(No column name)": "8"
                                },
                                {
                                    "SZOBA_ID": "56",
                                    "(No column name)": "2"
                                },
                                {
                                    "SZOBA_ID": "57",
                                    "(No column name)": "4"
                                },
                                {
                                    "SZOBA_ID": "58",
                                    "(No column name)": "13"
                                },
                                {
                                    "SZOBA_ID": "59",
                                    "(No column name)": "7"
                                },
                                {
                                    "SZOBA_ID": "60",
                                    "(No column name)": "1"
                                },
                                {
                                    "SZOBA_ID": "61",
                                    "(No column name)": "5"
                                },
                                {
                                    "SZOBA_ID": "62",
                                    "(No column name)": "5"
                                },
                                {
                                    "SZOBA_ID": "63",
                                    "(No column name)": "4"
                                },
                                {
                                    "SZOBA_ID": "64",
                                    "(No column name)": "6"
                                },
                                {
                                    "SZOBA_ID": "65",
                                    "(No column name)": "1"
                                },
                                {
                                    "SZOBA_ID": "66",
                                    "(No column name)": "4"
                                },
                                {
                                    "SZOBA_ID": "67",
                                    "(No column name)": "6"
                                },
                                {
                                    "SZOBA_ID": "68",
                                    "(No column name)": "3"
                                },
                                {
                                    "SZOBA_ID": "69",
                                    "(No column name)": "4"
                                },
                                {
                                    "SZOBA_ID": "70",
                                    "(No column name)": "11"
                                },
                                {
                                    "SZOBA_ID": "71",
                                    "(No column name)": "3"
                                },
                                {
                                    "SZOBA_ID": "72",
                                    "(No column name)": "4"
                                },
                                {
                                    "SZOBA_ID": "73",
                                    "(No column name)": "4"
                                },
                                {
                                    "SZOBA_ID": "74",
                                    "(No column name)": "9"
                                },
                                {
                                    "SZOBA_ID": "75",
                                    "(No column name)": "3"
                                },
                                {
                                    "SZOBA_ID": "76",
                                    "(No column name)": "3"
                                },
                                {
                                    "SZOBA_ID": "77",
                                    "(No column name)": "6"
                                },
                                {
                                    "SZOBA_ID": "78",
                                    "(No column name)": "6"
                                },
                                {
                                    "SZOBA_ID": "79",
                                    "(No column name)": "5"
                                },
                                {
                                    "SZOBA_ID": "80",
                                    "(No column name)": "7"
                                },
                                {
                                    "SZOBA_ID": "81",
                                    "(No column name)": "5"
                                },
                                {
                                    "SZOBA_ID": "82",
                                    "(No column name)": "6"
                                },
                                {
                                    "SZOBA_ID": "83",
                                    "(No column name)": "8"
                                },
                                {
                                    "SZOBA_ID": "84",
                                    "(No column name)": "4"
                                },
                                {
                                    "SZOBA_ID": "85",
                                    "(No column name)": "4"
                                },
                                {
                                    "SZOBA_ID": "86",
                                    "(No column name)": "5"
                                },
                                {
                                    "SZOBA_ID": "87",
                                    "(No column name)": "5"
                                },
                                {
                                    "SZOBA_ID": "88",
                                    "(No column name)": "8"
                                },
                                {
                                    "SZOBA_ID": "89",
                                    "(No column name)": "8"
                                },
                                {
                                    "SZOBA_ID": "90",
                                    "(No column name)": "4"
                                },
                                {
                                    "SZOBA_ID": "91",
                                    "(No column name)": "4"
                                },
                                {
                                    "SZOBA_ID": "92",
                                    "(No column name)": "6"
                                },
                                {
                                    "SZOBA_ID": "93",
                                    "(No column name)": "5"
                                },
                                {
                                    "SZOBA_ID": "94",
                                    "(No column name)": "10"
                                },
                                {
                                    "SZOBA_ID": "95",
                                    "(No column name)": "4"
                                },
                                {
                                    "SZOBA_ID": "96",
                                    "(No column name)": "7"
                                },
                                {
                                    "SZOBA_ID": "97",
                                    "(No column name)": "7"
                                },
                                {
                                    "SZOBA_ID": "98",
                                    "(No column name)": "4"
                                },
                                {
                                    "SZOBA_ID": "99",
                                    "(No column name)": "5"
                                },
                                {
                                    "SZOBA_ID": "100",
                                    "(No column name)": "4"
                                },
                                {
                                    "SZOBA_ID": "101",
                                    "(No column name)": "3"
                                },
                                {
                                    "SZOBA_ID": "102",
                                    "(No column name)": "2"
                                },
                                {
                                    "SZOBA_ID": "103",
                                    "(No column name)": "4"
                                },
                                {
                                    "SZOBA_ID": "104",
                                    "(No column name)": "4"
                                },
                                {
                                    "SZOBA_ID": "105",
                                    "(No column name)": "2"
                                },
                                {
                                    "SZOBA_ID": "106",
                                    "(No column name)": "6"
                                },
                                {
                                    "SZOBA_ID": "107",
                                    "(No column name)": "5"
                                },
                                {
                                    "SZOBA_ID": "108",
                                    "(No column name)": "2"
                                },
                                {
                                    "SZOBA_ID": "109",
                                    "(No column name)": "7"
                                },
                                {
                                    "SZOBA_ID": "110",
                                    "(No column name)": "8"
                                },
                                {
                                    "SZOBA_ID": "111",
                                    "(No column name)": "5"
                                },
                                {
                                    "SZOBA_ID": "112",
                                    "(No column name)": "5"
                                },
                                {
                                    "SZOBA_ID": "113",
                                    "(No column name)": "5"
                                },
                                {
                                    "SZOBA_ID": "114",
                                    "(No column name)": "4"
                                },
                                {
                                    "SZOBA_ID": "115",
                                    "(No column name)": "7"
                                },
                                {
                                    "SZOBA_ID": "116",
                                    "(No column name)": "2"
                                },
                                {
                                    "SZOBA_ID": "117",
                                    "(No column name)": "8"
                                },
                                {
                                    "SZOBA_ID": "118",
                                    "(No column name)": "7"
                                },
                                {
                                    "SZOBA_ID": "119",
                                    "(No column name)": "5"
                                },
                                {
                                    "SZOBA_ID": "120",
                                    "(No column name)": "6"
                                },
                                {
                                    "SZOBA_ID": "121",
                                    "(No column name)": "8"
                                },
                                {
                                    "SZOBA_ID": "122",
                                    "(No column name)": "9"
                                },
                                {
                                    "SZOBA_ID": "123",
                                    "(No column name)": "5"
                                },
                                {
                                    "SZOBA_ID": "124",
                                    "(No column name)": "6"
                                },
                                {
                                    "SZOBA_ID": "125",
                                    "(No column name)": "1"
                                },
                                {
                                    "SZOBA_ID": "126",
                                    "(No column name)": "6"
                                },
                                {
                                    "SZOBA_ID": "127",
                                    "(No column name)": "7"
                                },
                                {
                                    "SZOBA_ID": "128",
                                    "(No column name)": "5"
                                },
                                {
                                    "SZOBA_ID": "129",
                                    "(No column name)": "4"
                                },
                                {
                                    "SZOBA_ID": "130",
                                    "(No column name)": "6"
                                },
                                {
                                    "SZOBA_ID": "131",
                                    "(No column name)": "5"
                                },
                                {
                                    "SZOBA_ID": "132",
                                    "(No column name)": "6"
                                },
                                {
                                    "SZOBA_ID": "133",
                                    "(No column name)": "6"
                                },
                                {
                                    "SZOBA_ID": "134",
                                    "(No column name)": "6"
                                },
                                {
                                    "SZOBA_ID": "135",
                                    "(No column name)": "3"
                                },
                                {
                                    "SZOBA_ID": "136",
                                    "(No column name)": "3"
                                },
                                {
                                    "SZOBA_ID": "137",
                                    "(No column name)": "6"
                                },
                                {
                                    "SZOBA_ID": "138",
                                    "(No column name)": "7"
                                },
                                {
                                    "SZOBA_ID": "139",
                                    "(No column name)": "7"
                                },
                                {
                                    "SZOBA_ID": "140",
                                    "(No column name)": "8"
                                },
                                {
                                    "SZOBA_ID": "141",
                                    "(No column name)": "6"
                                },
                                {
                                    "SZOBA_ID": "142",
                                    "(No column name)": "2"
                                },
                                {
                                    "SZOBA_ID": "143",
                                    "(No column name)": "7"
                                },
                                {
                                    "SZOBA_ID": "144",
                                    "(No column name)": "5"
                                },
                                {
                                    "SZOBA_ID": "145",
                                    "(No column name)": "6"
                                },
                                {
                                    "SZOBA_ID": "146",
                                    "(No column name)": "6"
                                },
                                {
                                    "SZOBA_ID": "147",
                                    "(No column name)": "1"
                                },
                                {
                                    "SZOBA_ID": "148",
                                    "(No column name)": "6"
                                },
                                {
                                    "SZOBA_ID": "149",
                                    "(No column name)": "7"
                                },
                                {
                                    "SZOBA_ID": "150",
                                    "(No column name)": "6"
                                },
                                {
                                    "SZOBA_ID": "151",
                                    "(No column name)": "3"
                                },
                                {
                                    "SZOBA_ID": "152",
                                    "(No column name)": "4"
                                },
                                {
                                    "SZOBA_ID": "153",
                                    "(No column name)": "5"
                                },
                                {
                                    "SZOBA_ID": "154",
                                    "(No column name)": "5"
                                },
                                {
                                    "SZOBA_ID": "155",
                                    "(No column name)": "5"
                                },
                                {
                                    "SZOBA_ID": "156",
                                    "(No column name)": "7"
                                },
                                {
                                    "SZOBA_ID": "157",
                                    "(No column name)": "5"
                                },
                                {
                                    "SZOBA_ID": "158",
                                    "(No column name)": "3"
                                },
                                {
                                    "SZOBA_ID": "159",
                                    "(No column name)": "1"
                                },
                                {
                                    "SZOBA_ID": "160",
                                    "(No column name)": "5"
                                },
                                {
                                    "SZOBA_ID": "161",
                                    "(No column name)": "6"
                                },
                                {
                                    "SZOBA_ID": "162",
                                    "(No column name)": "3"
                                },
                                {
                                    "SZOBA_ID": "163",
                                    "(No column name)": "7"
                                },
                                {
                                    "SZOBA_ID": "164",
                                    "(No column name)": "5"
                                },
                                {
                                    "SZOBA_ID": "165",
                                    "(No column name)": "7"
                                },
                                {
                                    "SZOBA_ID": "166",
                                    "(No column name)": "3"
                                },
                                {
                                    "SZOBA_ID": "167",
                                    "(No column name)": "2"
                                },
                                {
                                    "SZOBA_ID": "168",
                                    "(No column name)": "5"
                                },
                                {
                                    "SZOBA_ID": "169",
                                    "(No column name)": "6"
                                },
                                {
                                    "SZOBA_ID": "170",
                                    "(No column name)": "5"
                                },
                                {
                                    "SZOBA_ID": "171",
                                    "(No column name)": "5"
                                },
                                {
                                    "SZOBA_ID": "172",
                                    "(No column name)": "9"
                                },
                                {
                                    "SZOBA_ID": "173",
                                    "(No column name)": "4"
                                },
                                {
                                    "SZOBA_ID": "174",
                                    "(No column name)": "4"
                                },
                                {
                                    "SZOBA_ID": "175",
                                    "(No column name)": "5"
                                },
                                {
                                    "SZOBA_ID": "176",
                                    "(No column name)": "6"
                                },
                                {
                                    "SZOBA_ID": "177",
                                    "(No column name)": "4"
                                },
                                {
                                    "SZOBA_ID": "178",
                                    "(No column name)": "4"
                                },
                                {
                                    "SZOBA_ID": "179",
                                    "(No column name)": "3"
                                },
                                {
                                    "SZOBA_ID": "180",
                                    "(No column name)": "3"
                                },
                                {
                                    "SZOBA_ID": "181",
                                    "(No column name)": "6"
                                },
                                {
                                    "SZOBA_ID": "182",
                                    "(No column name)": "12"
                                },
                                {
                                    "SZOBA_ID": "183",
                                    "(No column name)": "4"
                                },
                                {
                                    "SZOBA_ID": "184",
                                    "(No column name)": "4"
                                },
                                {
                                    "SZOBA_ID": "185",
                                    "(No column name)": "12"
                                },
                                {
                                    "SZOBA_ID": "186",
                                    "(No column name)": "4"
                                },
                                {
                                    "SZOBA_ID": "187",
                                    "(No column name)": "7"
                                },
                                {
                                    "SZOBA_ID": "188",
                                    "(No column name)": "6"
                                },
                                {
                                    "SZOBA_ID": "189",
                                    "(No column name)": "5"
                                },
                                {
                                    "SZOBA_ID": "190",
                                    "(No column name)": "5"
                                },
                                {
                                    "SZOBA_ID": "191",
                                    "(No column name)": "5"
                                },
                                {
                                    "SZOBA_ID": "192",
                                    "(No column name)": "2"
                                },
                                {
                                    "SZOBA_ID": "193",
                                    "(No column name)": "7"
                                },
                                {
                                    "SZOBA_ID": "194",
                                    "(No column name)": "1"
                                },
                                {
                                    "SZOBA_ID": "195",
                                    "(No column name)": "6"
                                },
                                {
                                    "SZOBA_ID": "196",
                                    "(No column name)": "4"
                                },
                                {
                                    "SZOBA_ID": "197",
                                    "(No column name)": "6"
                                },
                                {
                                    "SZOBA_ID": "198",
                                    "(No column name)": "8"
                                },
                                {
                                    "SZOBA_ID": "199",
                                    "(No column name)": "1"
                                },
                                {
                                    "SZOBA_ID": "200",
                                    "(No column name)": "1"
                                },
                                {
                                    "SZOBA_ID": "201",
                                    "(No column name)": "1"
                                },
                                {
                                    "SZOBA_ID": "202",
                                    "(No column name)": "1"
                                },
                                {
                                    "SZOBA_ID": "203",
                                    "(No column name)": "1"
                                },
                                {
                                    "SZOBA_ID": "204",
                                    "(No column name)": "1"
                                },
                                {
                                    "SZOBA_ID": "205",
                                    "(No column name)": "1"
                                },
                                {
                                    "SZOBA_ID": "206",
                                    "(No column name)": "1"
                                },
                                {
                                    "SZOBA_ID": "207",
                                    "(No column name)": "1"
                                },
                                {
                                    "SZOBA_ID": "208",
                                    "(No column name)": "1"
                                },
                                {
                                    "SZOBA_ID": "209",
                                    "(No column name)": "1"
                                },
                                {
                                    "SZOBA_ID": "210",
                                    "(No column name)": "1"
                                },
                                {
                                    "SZOBA_ID": "211",
                                    "(No column name)": "1"
                                },
                                {
                                    "SZOBA_ID": "212",
                                    "(No column name)": "1"
                                },
                                {
                                    "SZOBA_ID": "213",
                                    "(No column name)": "1"
                                },
                                {
                                    "SZOBA_ID": "214",
                                    "(No column name)": "1"
                                },
                                {
                                    "SZOBA_ID": "215",
                                    "(No column name)": "1"
                                },
                                {
                                    "SZOBA_ID": "216",
                                    "(No column name)": "1"
                                },
                                {
                                    "SZOBA_ID": "217",
                                    "(No column name)": "1"
                                },
                                {
                                    "SZOBA_ID": "218",
                                    "(No column name)": "1"
                                },
                                {
                                    "SZOBA_ID": "219",
                                    "(No column name)": "1"
                                },
                                {
                                    "SZOBA_ID": "220",
                                    "(No column name)": "1"
                                },
                                {
                                    "SZOBA_ID": "221",
                                    "(No column name)": "1"
                                },
                                {
                                    "SZOBA_ID": "222",
                                    "(No column name)": "1"
                                },
                                {
                                    "SZOBA_ID": "223",
                                    "(No column name)": "1"
                                },
                                {
                                    "SZOBA_ID": "224",
                                    "(No column name)": "1"
                                },
                                {
                                    "SZOBA_ID": "225",
                                    "(No column name)": "1"
                                },
                                {
                                    "SZOBA_ID": "226",
                                    "(No column name)": "1"
                                },
                                {
                                    "SZOBA_ID": "227",
                                    "(No column name)": "1"
                                },
                                {
                                    "SZOBA_ID": "228",
                                    "(No column name)": "1"
                                },
                                {
                                    "SZOBA_ID": "229",
                                    "(No column name)": "1"
                                },
                                {
                                    "SZOBA_ID": "230",
                                    "(No column name)": "1"
                                },
                                {
                                    "SZOBA_ID": "231",
                                    "(No column name)": "1"
                                },
                                {
                                    "SZOBA_ID": "232",
                                    "(No column name)": "1"
                                },
                                {
                                    "SZOBA_ID": "233",
                                    "(No column name)": "1"
                                },
                                {
                                    "SZOBA_ID": "234",
                                    "(No column name)": "1"
                                },
                                {
                                    "SZOBA_ID": "235",
                                    "(No column name)": "1"
                                },
                                {
                                    "SZOBA_ID": "236",
                                    "(No column name)": "1"
                                },
                                {
                                    "SZOBA_ID": "237",
                                    "(No column name)": "1"
                                },
                                {
                                    "SZOBA_ID": "238",
                                    "(No column name)": "1"
                                },
                                {
                                    "SZOBA_ID": "239",
                                    "(No column name)": "1"
                                },
                                {
                                    "SZOBA_ID": "240",
                                    "(No column name)": "1"
                                },
                                {
                                    "SZOBA_ID": "241",
                                    "(No column name)": "1"
                                },
                                {
                                    "SZOBA_ID": "242",
                                    "(No column name)": "1"
                                },
                                {
                                    "SZOBA_ID": "243",
                                    "(No column name)": "1"
                                },
                                {
                                    "SZOBA_ID": "244",
                                    "(No column name)": "1"
                                },
                                {
                                    "SZOBA_ID": "245",
                                    "(No column name)": "1"
                                },
                                {
                                    "SZOBA_ID": "246",
                                    "(No column name)": "1"
                                },
                                {
                                    "SZOBA_ID": "247",
                                    "(No column name)": "1"
                                },
                                {
                                    "SZOBA_ID": "248",
                                    "(No column name)": "1"
                                },
                                {
                                    "SZOBA_ID": "249",
                                    "(No column name)": "1"
                                },
                                {
                                    "SZOBA_ID": "250",
                                    "(No column name)": "1"
                                },
                                {
                                    "SZOBA_ID": "251",
                                    "(No column name)": "1"
                                },
                                {
                                    "SZOBA_ID": "252",
                                    "(No column name)": "1"
                                },
                                {
                                    "SZOBA_ID": "253",
                                    "(No column name)": "1"
                                },
                                {
                                    "SZOBA_ID": "254",
                                    "(No column name)": "1"
                                },
                                {
                                    "SZOBA_ID": "255",
                                    "(No column name)": "1"
                                },
                                {
                                    "SZOBA_ID": "256",
                                    "(No column name)": "1"
                                },
                                {
                                    "SZOBA_ID": "257",
                                    "(No column name)": "1"
                                },
                                {
                                    "SZOBA_ID": "258",
                                    "(No column name)": "1"
                                },
                                {
                                    "SZOBA_ID": "259",
                                    "(No column name)": "1"
                                },
                                {
                                    "SZOBA_ID": "260",
                                    "(No column name)": "1"
                                },
                                {
                                    "SZOBA_ID": "261",
                                    "(No column name)": "1"
                                },
                                {
                                    "SZOBA_ID": "262",
                                    "(No column name)": "1"
                                },
                                {
                                    "SZOBA_ID": "263",
                                    "(No column name)": "1"
                                },
                                {
                                    "SZOBA_ID": "264",
                                    "(No column name)": "1"
                                },
                                {
                                    "SZOBA_ID": "265",
                                    "(No column name)": "1"
                                },
                                {
                                    "SZOBA_ID": "266",
                                    "(No column name)": "1"
                                },
                                {
                                    "SZOBA_ID": "267",
                                    "(No column name)": "1"
                                },
                                {
                                    "SZOBA_ID": "268",
                                    "(No column name)": "1"
                                },
                                {
                                    "SZOBA_ID": "269",
                                    "(No column name)": "1"
                                },
                                {
                                    "SZOBA_ID": "270",
                                    "(No column name)": "1"
                                },
                                {
                                    "SZOBA_ID": "271",
                                    "(No column name)": "1"
                                },
                                {
                                    "SZOBA_ID": "272",
                                    "(No column name)": "1"
                                },
                                {
                                    "SZOBA_ID": "273",
                                    "(No column name)": "1"
                                },
                                {
                                    "SZOBA_ID": "274",
                                    "(No column name)": "1"
                                },
                                {
                                    "SZOBA_ID": "275",
                                    "(No column name)": "1"
                                },
                                {
                                    "SZOBA_ID": "276",
                                    "(No column name)": "1"
                                },
                                {
                                    "SZOBA_ID": "277",
                                    "(No column name)": "1"
                                },
                                {
                                    "SZOBA_ID": "278",
                                    "(No column name)": "1"
                                },
                                {
                                    "SZOBA_ID": "279",
                                    "(No column name)": "1"
                                },
                                {
                                    "SZOBA_ID": "280",
                                    "(No column name)": "1"
                                },
                                {
                                    "SZOBA_ID": "281",
                                    "(No column name)": "1"
                                },
                                {
                                    "SZOBA_ID": "282",
                                    "(No column name)": "1"
                                },
                                {
                                    "SZOBA_ID": "283",
                                    "(No column name)": "1"
                                },
                                {
                                    "SZOBA_ID": "284",
                                    "(No column name)": "1"
                                },
                                {
                                    "SZOBA_ID": "285",
                                    "(No column name)": "1"
                                },
                                {
                                    "SZOBA_ID": "286",
                                    "(No column name)": "1"
                                },
                                {
                                    "SZOBA_ID": "287",
                                    "(No column name)": "1"
                                },
                                {
                                    "SZOBA_ID": "288",
                                    "(No column name)": "1"
                                },
                                {
                                    "SZOBA_ID": "289",
                                    "(No column name)": "1"
                                },
                                {
                                    "SZOBA_ID": "290",
                                    "(No column name)": "1"
                                },
                                {
                                    "SZOBA_ID": "291",
                                    "(No column name)": "1"
                                },
                                {
                                    "SZOBA_ID": "292",
                                    "(No column name)": "1"
                                },
                                {
                                    "SZOBA_ID": "293",
                                    "(No column name)": "1"
                                },
                                {
                                    "SZOBA_ID": "294",
                                    "(No column name)": "1"
                                }
                            ]
                        },
                        "text/html": "<table><tr><th>SZOBA_ID</th><th>(No column name)</th></tr><tr><td>1</td><td>8</td></tr><tr><td>2</td><td>4</td></tr><tr><td>3</td><td>8</td></tr><tr><td>4</td><td>6</td></tr><tr><td>5</td><td>4</td></tr><tr><td>6</td><td>6</td></tr><tr><td>7</td><td>6</td></tr><tr><td>8</td><td>5</td></tr><tr><td>9</td><td>6</td></tr><tr><td>10</td><td>4</td></tr><tr><td>11</td><td>4</td></tr><tr><td>12</td><td>9</td></tr><tr><td>13</td><td>4</td></tr><tr><td>14</td><td>3</td></tr><tr><td>15</td><td>6</td></tr><tr><td>16</td><td>5</td></tr><tr><td>17</td><td>6</td></tr><tr><td>18</td><td>6</td></tr><tr><td>19</td><td>6</td></tr><tr><td>20</td><td>5</td></tr><tr><td>21</td><td>4</td></tr><tr><td>22</td><td>6</td></tr><tr><td>23</td><td>3</td></tr><tr><td>24</td><td>3</td></tr><tr><td>25</td><td>2</td></tr><tr><td>26</td><td>2</td></tr><tr><td>27</td><td>7</td></tr><tr><td>28</td><td>6</td></tr><tr><td>29</td><td>6</td></tr><tr><td>30</td><td>3</td></tr><tr><td>31</td><td>3</td></tr><tr><td>32</td><td>1</td></tr><tr><td>33</td><td>6</td></tr><tr><td>34</td><td>4</td></tr><tr><td>35</td><td>9</td></tr><tr><td>36</td><td>6</td></tr><tr><td>37</td><td>3</td></tr><tr><td>38</td><td>8</td></tr><tr><td>39</td><td>7</td></tr><tr><td>40</td><td>4</td></tr><tr><td>41</td><td>2</td></tr><tr><td>42</td><td>6</td></tr><tr><td>43</td><td>8</td></tr><tr><td>44</td><td>6</td></tr><tr><td>45</td><td>5</td></tr><tr><td>46</td><td>4</td></tr><tr><td>47</td><td>2</td></tr><tr><td>48</td><td>9</td></tr><tr><td>49</td><td>7</td></tr><tr><td>50</td><td>4</td></tr><tr><td>51</td><td>5</td></tr><tr><td>52</td><td>5</td></tr><tr><td>53</td><td>2</td></tr><tr><td>54</td><td>6</td></tr><tr><td>55</td><td>8</td></tr><tr><td>56</td><td>2</td></tr><tr><td>57</td><td>4</td></tr><tr><td>58</td><td>13</td></tr><tr><td>59</td><td>7</td></tr><tr><td>60</td><td>1</td></tr><tr><td>61</td><td>5</td></tr><tr><td>62</td><td>5</td></tr><tr><td>63</td><td>4</td></tr><tr><td>64</td><td>6</td></tr><tr><td>65</td><td>1</td></tr><tr><td>66</td><td>4</td></tr><tr><td>67</td><td>6</td></tr><tr><td>68</td><td>3</td></tr><tr><td>69</td><td>4</td></tr><tr><td>70</td><td>11</td></tr><tr><td>71</td><td>3</td></tr><tr><td>72</td><td>4</td></tr><tr><td>73</td><td>4</td></tr><tr><td>74</td><td>9</td></tr><tr><td>75</td><td>3</td></tr><tr><td>76</td><td>3</td></tr><tr><td>77</td><td>6</td></tr><tr><td>78</td><td>6</td></tr><tr><td>79</td><td>5</td></tr><tr><td>80</td><td>7</td></tr><tr><td>81</td><td>5</td></tr><tr><td>82</td><td>6</td></tr><tr><td>83</td><td>8</td></tr><tr><td>84</td><td>4</td></tr><tr><td>85</td><td>4</td></tr><tr><td>86</td><td>5</td></tr><tr><td>87</td><td>5</td></tr><tr><td>88</td><td>8</td></tr><tr><td>89</td><td>8</td></tr><tr><td>90</td><td>4</td></tr><tr><td>91</td><td>4</td></tr><tr><td>92</td><td>6</td></tr><tr><td>93</td><td>5</td></tr><tr><td>94</td><td>10</td></tr><tr><td>95</td><td>4</td></tr><tr><td>96</td><td>7</td></tr><tr><td>97</td><td>7</td></tr><tr><td>98</td><td>4</td></tr><tr><td>99</td><td>5</td></tr><tr><td>100</td><td>4</td></tr><tr><td>101</td><td>3</td></tr><tr><td>102</td><td>2</td></tr><tr><td>103</td><td>4</td></tr><tr><td>104</td><td>4</td></tr><tr><td>105</td><td>2</td></tr><tr><td>106</td><td>6</td></tr><tr><td>107</td><td>5</td></tr><tr><td>108</td><td>2</td></tr><tr><td>109</td><td>7</td></tr><tr><td>110</td><td>8</td></tr><tr><td>111</td><td>5</td></tr><tr><td>112</td><td>5</td></tr><tr><td>113</td><td>5</td></tr><tr><td>114</td><td>4</td></tr><tr><td>115</td><td>7</td></tr><tr><td>116</td><td>2</td></tr><tr><td>117</td><td>8</td></tr><tr><td>118</td><td>7</td></tr><tr><td>119</td><td>5</td></tr><tr><td>120</td><td>6</td></tr><tr><td>121</td><td>8</td></tr><tr><td>122</td><td>9</td></tr><tr><td>123</td><td>5</td></tr><tr><td>124</td><td>6</td></tr><tr><td>125</td><td>1</td></tr><tr><td>126</td><td>6</td></tr><tr><td>127</td><td>7</td></tr><tr><td>128</td><td>5</td></tr><tr><td>129</td><td>4</td></tr><tr><td>130</td><td>6</td></tr><tr><td>131</td><td>5</td></tr><tr><td>132</td><td>6</td></tr><tr><td>133</td><td>6</td></tr><tr><td>134</td><td>6</td></tr><tr><td>135</td><td>3</td></tr><tr><td>136</td><td>3</td></tr><tr><td>137</td><td>6</td></tr><tr><td>138</td><td>7</td></tr><tr><td>139</td><td>7</td></tr><tr><td>140</td><td>8</td></tr><tr><td>141</td><td>6</td></tr><tr><td>142</td><td>2</td></tr><tr><td>143</td><td>7</td></tr><tr><td>144</td><td>5</td></tr><tr><td>145</td><td>6</td></tr><tr><td>146</td><td>6</td></tr><tr><td>147</td><td>1</td></tr><tr><td>148</td><td>6</td></tr><tr><td>149</td><td>7</td></tr><tr><td>150</td><td>6</td></tr><tr><td>151</td><td>3</td></tr><tr><td>152</td><td>4</td></tr><tr><td>153</td><td>5</td></tr><tr><td>154</td><td>5</td></tr><tr><td>155</td><td>5</td></tr><tr><td>156</td><td>7</td></tr><tr><td>157</td><td>5</td></tr><tr><td>158</td><td>3</td></tr><tr><td>159</td><td>1</td></tr><tr><td>160</td><td>5</td></tr><tr><td>161</td><td>6</td></tr><tr><td>162</td><td>3</td></tr><tr><td>163</td><td>7</td></tr><tr><td>164</td><td>5</td></tr><tr><td>165</td><td>7</td></tr><tr><td>166</td><td>3</td></tr><tr><td>167</td><td>2</td></tr><tr><td>168</td><td>5</td></tr><tr><td>169</td><td>6</td></tr><tr><td>170</td><td>5</td></tr><tr><td>171</td><td>5</td></tr><tr><td>172</td><td>9</td></tr><tr><td>173</td><td>4</td></tr><tr><td>174</td><td>4</td></tr><tr><td>175</td><td>5</td></tr><tr><td>176</td><td>6</td></tr><tr><td>177</td><td>4</td></tr><tr><td>178</td><td>4</td></tr><tr><td>179</td><td>3</td></tr><tr><td>180</td><td>3</td></tr><tr><td>181</td><td>6</td></tr><tr><td>182</td><td>12</td></tr><tr><td>183</td><td>4</td></tr><tr><td>184</td><td>4</td></tr><tr><td>185</td><td>12</td></tr><tr><td>186</td><td>4</td></tr><tr><td>187</td><td>7</td></tr><tr><td>188</td><td>6</td></tr><tr><td>189</td><td>5</td></tr><tr><td>190</td><td>5</td></tr><tr><td>191</td><td>5</td></tr><tr><td>192</td><td>2</td></tr><tr><td>193</td><td>7</td></tr><tr><td>194</td><td>1</td></tr><tr><td>195</td><td>6</td></tr><tr><td>196</td><td>4</td></tr><tr><td>197</td><td>6</td></tr><tr><td>198</td><td>8</td></tr><tr><td>199</td><td>1</td></tr><tr><td>200</td><td>1</td></tr><tr><td>201</td><td>1</td></tr><tr><td>202</td><td>1</td></tr><tr><td>203</td><td>1</td></tr><tr><td>204</td><td>1</td></tr><tr><td>205</td><td>1</td></tr><tr><td>206</td><td>1</td></tr><tr><td>207</td><td>1</td></tr><tr><td>208</td><td>1</td></tr><tr><td>209</td><td>1</td></tr><tr><td>210</td><td>1</td></tr><tr><td>211</td><td>1</td></tr><tr><td>212</td><td>1</td></tr><tr><td>213</td><td>1</td></tr><tr><td>214</td><td>1</td></tr><tr><td>215</td><td>1</td></tr><tr><td>216</td><td>1</td></tr><tr><td>217</td><td>1</td></tr><tr><td>218</td><td>1</td></tr><tr><td>219</td><td>1</td></tr><tr><td>220</td><td>1</td></tr><tr><td>221</td><td>1</td></tr><tr><td>222</td><td>1</td></tr><tr><td>223</td><td>1</td></tr><tr><td>224</td><td>1</td></tr><tr><td>225</td><td>1</td></tr><tr><td>226</td><td>1</td></tr><tr><td>227</td><td>1</td></tr><tr><td>228</td><td>1</td></tr><tr><td>229</td><td>1</td></tr><tr><td>230</td><td>1</td></tr><tr><td>231</td><td>1</td></tr><tr><td>232</td><td>1</td></tr><tr><td>233</td><td>1</td></tr><tr><td>234</td><td>1</td></tr><tr><td>235</td><td>1</td></tr><tr><td>236</td><td>1</td></tr><tr><td>237</td><td>1</td></tr><tr><td>238</td><td>1</td></tr><tr><td>239</td><td>1</td></tr><tr><td>240</td><td>1</td></tr><tr><td>241</td><td>1</td></tr><tr><td>242</td><td>1</td></tr><tr><td>243</td><td>1</td></tr><tr><td>244</td><td>1</td></tr><tr><td>245</td><td>1</td></tr><tr><td>246</td><td>1</td></tr><tr><td>247</td><td>1</td></tr><tr><td>248</td><td>1</td></tr><tr><td>249</td><td>1</td></tr><tr><td>250</td><td>1</td></tr><tr><td>251</td><td>1</td></tr><tr><td>252</td><td>1</td></tr><tr><td>253</td><td>1</td></tr><tr><td>254</td><td>1</td></tr><tr><td>255</td><td>1</td></tr><tr><td>256</td><td>1</td></tr><tr><td>257</td><td>1</td></tr><tr><td>258</td><td>1</td></tr><tr><td>259</td><td>1</td></tr><tr><td>260</td><td>1</td></tr><tr><td>261</td><td>1</td></tr><tr><td>262</td><td>1</td></tr><tr><td>263</td><td>1</td></tr><tr><td>264</td><td>1</td></tr><tr><td>265</td><td>1</td></tr><tr><td>266</td><td>1</td></tr><tr><td>267</td><td>1</td></tr><tr><td>268</td><td>1</td></tr><tr><td>269</td><td>1</td></tr><tr><td>270</td><td>1</td></tr><tr><td>271</td><td>1</td></tr><tr><td>272</td><td>1</td></tr><tr><td>273</td><td>1</td></tr><tr><td>274</td><td>1</td></tr><tr><td>275</td><td>1</td></tr><tr><td>276</td><td>1</td></tr><tr><td>277</td><td>1</td></tr><tr><td>278</td><td>1</td></tr><tr><td>279</td><td>1</td></tr><tr><td>280</td><td>1</td></tr><tr><td>281</td><td>1</td></tr><tr><td>282</td><td>1</td></tr><tr><td>283</td><td>1</td></tr><tr><td>284</td><td>1</td></tr><tr><td>285</td><td>1</td></tr><tr><td>286</td><td>1</td></tr><tr><td>287</td><td>1</td></tr><tr><td>288</td><td>1</td></tr><tr><td>289</td><td>1</td></tr><tr><td>290</td><td>1</td></tr><tr><td>291</td><td>1</td></tr><tr><td>292</td><td>1</td></tr><tr><td>293</td><td>1</td></tr><tr><td>294</td><td>1</td></tr></table>"
                    },
                    "metadata": {}
                }
            ],
            "execution_count": 3
        },
        {
            "cell_type": "code",
            "source": [
                "select \r\n",
                "    v.*\r\n",
                "from Vendeg v \r\n",
                "    join Foglalas f on v.USERNEV = f.UGYFEL_FK\r\n",
                "    join Szoba sz on f.SZOBA_FK = sz.SZOBA_ID\r\n",
                "where FEROHELY =\r\n",
                "(\r\n",
                "    select max(FEROHELY)\r\n",
                "    from Szoba\r\n",
                ") and KLIMAS = 'i'"
            ],
            "metadata": {
                "language": "sql",
                "azdata_cell_guid": "609ac917-f79d-4fe7-ad3a-d4345ab5b631"
            },
            "outputs": [
                {
                    "output_type": "display_data",
                    "data": {
                        "text/html": "(3 rows affected)"
                    },
                    "metadata": {}
                },
                {
                    "output_type": "display_data",
                    "data": {
                        "text/html": "Total execution time: 00:00:00.020"
                    },
                    "metadata": {}
                },
                {
                    "output_type": "execute_result",
                    "execution_count": 5,
                    "data": {
                        "application/vnd.dataresource+json": {
                            "schema": {
                                "fields": [
                                    {
                                        "name": "USERNEV"
                                    },
                                    {
                                        "name": "NEV"
                                    },
                                    {
                                        "name": "EMAIL"
                                    },
                                    {
                                        "name": "SZAML_CIM"
                                    },
                                    {
                                        "name": "SZUL_DAT"
                                    },
                                    {
                                        "name": "FEROHELY"
                                    }
                                ]
                            },
                            "data": [
                                {
                                    "USERNEV": "JOZSEFG",
                                    "NEV": "Gyuris József",
                                    "EMAIL": "józsef.gyuris@mail.hu",
                                    "SZAML_CIM": "2660 Balassagyarmat Petőfi utca 1/2.",
                                    "SZUL_DAT": "1975-05-26",
                                    "FEROHELY": "4"
                                },
                                {
                                    "USERNEV": "PETERB",
                                    "NEV": "Berendi Péter",
                                    "EMAIL": "péter.berendi@mail.hu",
                                    "SZAML_CIM": "3980 Sátoraljaújhely Vasút utca 4/10.",
                                    "SZUL_DAT": "1969-01-01",
                                    "FEROHELY": "4"
                                },
                                {
                                    "USERNEV": "tunde",
                                    "NEV": "Turcsik Tünde",
                                    "EMAIL": "tunde@gmail.com",
                                    "SZAML_CIM": "7130 Tolna Fő út 122.",
                                    "SZUL_DAT": "1974-02-12",
                                    "FEROHELY": "4"
                                }
                            ]
                        },
                        "text/html": "<table><tr><th>USERNEV</th><th>NEV</th><th>EMAIL</th><th>SZAML_CIM</th><th>SZUL_DAT</th><th>FEROHELY</th></tr><tr><td>JOZSEFG</td><td>Gyuris József</td><td>józsef.gyuris@mail.hu</td><td>2660 Balassagyarmat Petőfi utca 1/2.</td><td>1975-05-26</td><td>4</td></tr><tr><td>PETERB</td><td>Berendi Péter</td><td>péter.berendi@mail.hu</td><td>3980 Sátoraljaújhely Vasút utca 4/10.</td><td>1969-01-01</td><td>4</td></tr><tr><td>tunde</td><td>Turcsik Tünde</td><td>tunde@gmail.com</td><td>7130 Tolna Fő út 122.</td><td>1974-02-12</td><td>4</td></tr></table>"
                    },
                    "metadata": {}
                }
            ],
            "execution_count": 5
        },
        {
            "cell_type": "code",
            "source": [
                "select \r\n",
                "    distinct USERNEV,\r\n",
                "    NEV,\r\n",
                "    SZUL_DAT,\r\n",
                "    min(METTOL) over (partition by USERNEV),\r\n",
                "    max(METTOL) over (partition by USERNEV)\r\n",
                "from Vendeg v join Foglalas f on v.USERNEV = f.UGYFEL_FK"
            ],
            "metadata": {
                "language": "sql",
                "azdata_cell_guid": "a359b09c-1b0e-462e-9cc8-dab007382972"
            },
            "outputs": [
                {
                    "output_type": "display_data",
                    "data": {
                        "text/html": "(195 rows affected)"
                    },
                    "metadata": {}
                },
                {
                    "output_type": "display_data",
                    "data": {
                        "text/html": "Total execution time: 00:00:00.018"
                    },
                    "metadata": {}
                },
                {
                    "output_type": "execute_result",
                    "execution_count": 9,
                    "data": {
                        "application/vnd.dataresource+json": {
                            "schema": {
                                "fields": [
                                    {
                                        "name": "USERNEV"
                                    },
                                    {
                                        "name": "NEV"
                                    },
                                    {
                                        "name": "SZUL_DAT"
                                    },
                                    {
                                        "name": "(No column name)"
                                    },
                                    {
                                        "name": "(No column name)"
                                    }
                                ]
                            },
                            "data": [
                                {
                                    "USERNEV": "adam1",
                                    "NEV": "Kiss Ádám",
                                    "SZUL_DAT": "1991-12-28",
                                    "(No column name)": "2016-10-19"
                                },
                                {
                                    "USERNEV": "adam3",
                                    "NEV": "Barkóci Ádám",
                                    "SZUL_DAT": "1970-06-07",
                                    "(No column name)": "2017-02-06"
                                },
                                {
                                    "USERNEV": "adam4",
                                    "NEV": "Bieniek Ádám",
                                    "SZUL_DAT": "1976-08-01",
                                    "(No column name)": "2017-02-23"
                                },
                                {
                                    "USERNEV": "agnes",
                                    "NEV": "Lengyel Ágnes",
                                    "SZUL_DAT": "1979-12-10",
                                    "(No column name)": "2016-11-07"
                                },
                                {
                                    "USERNEV": "agnes3",
                                    "NEV": "Hartyánszky Ágnes",
                                    "SZUL_DAT": "1967-04-11",
                                    "(No column name)": "2017-02-16"
                                },
                                {
                                    "USERNEV": "AGNESH",
                                    "NEV": "Horváth Ágnes",
                                    "SZUL_DAT": "1981-12-24",
                                    "(No column name)": "2017-01-16"
                                },
                                {
                                    "USERNEV": "AGNESK",
                                    "NEV": "Kovács Ágnes",
                                    "SZUL_DAT": "1988-10-02",
                                    "(No column name)": "2016-12-17"
                                },
                                {
                                    "USERNEV": "akos",
                                    "NEV": "Bíró Ákos",
                                    "SZUL_DAT": "1982-04-24",
                                    "(No column name)": "2016-12-29"
                                },
                                {
                                    "USERNEV": "aladar",
                                    "NEV": "Dunai Aladár",
                                    "SZUL_DAT": "1980-11-01",
                                    "(No column name)": "2016-11-22"
                                },
                                {
                                    "USERNEV": "alexandra",
                                    "NEV": "Bagóczki Alexandra",
                                    "SZUL_DAT": "1992-03-25",
                                    "(No column name)": "2017-01-19"
                                },
                                {
                                    "USERNEV": "andi",
                                    "NEV": "Maródi Andrea",
                                    "SZUL_DAT": "1968-05-07",
                                    "(No column name)": "2017-01-13"
                                },
                                {
                                    "USERNEV": "andras2",
                                    "NEV": "Tóth András",
                                    "SZUL_DAT": "1997-10-31",
                                    "(No column name)": "2017-02-08"
                                },
                                {
                                    "USERNEV": "andras21",
                                    "NEV": "Molnár András",
                                    "SZUL_DAT": "1977-11-16",
                                    "(No column name)": "2017-01-28"
                                },
                                {
                                    "USERNEV": "andras3",
                                    "NEV": "Vígh András",
                                    "SZUL_DAT": "1971-04-02",
                                    "(No column name)": "2017-02-02"
                                },
                                {
                                    "USERNEV": "andras4",
                                    "NEV": "Back András",
                                    "SZUL_DAT": "1984-04-07",
                                    "(No column name)": "2017-01-09"
                                },
                                {
                                    "USERNEV": "andras41",
                                    "NEV": "Komjáti András",
                                    "SZUL_DAT": "1997-10-25",
                                    "(No column name)": "2016-11-23"
                                },
                                {
                                    "USERNEV": "ANDRASE",
                                    "NEV": "Erdei András",
                                    "SZUL_DAT": "1997-05-29",
                                    "(No column name)": "2016-11-29"
                                },
                                {
                                    "USERNEV": "ANDRASN",
                                    "NEV": "Nagy András",
                                    "SZUL_DAT": "1980-09-05",
                                    "(No column name)": "2016-11-25"
                                },
                                {
                                    "USERNEV": "andrea",
                                    "NEV": "Kiss Andrea",
                                    "SZUL_DAT": "1993-03-25",
                                    "(No column name)": "2017-02-09"
                                },
                                {
                                    "USERNEV": "andrea3",
                                    "NEV": "Szomor Andrea",
                                    "SZUL_DAT": "1996-05-10",
                                    "(No column name)": "2016-11-19"
                                },
                                {
                                    "USERNEV": "andrea4",
                                    "NEV": "Neizer Andrea",
                                    "SZUL_DAT": "1981-05-17",
                                    "(No column name)": "2017-01-22"
                                },
                                {
                                    "USERNEV": "ANDREAT",
                                    "NEV": "Tornyos Andrea",
                                    "SZUL_DAT": "1986-11-14",
                                    "(No column name)": "2016-10-08"
                                },
                                {
                                    "USERNEV": "anett3",
                                    "NEV": "Pivarcsi Anett",
                                    "SZUL_DAT": "1967-01-03",
                                    "(No column name)": "2016-10-16"
                                },
                                {
                                    "USERNEV": "aniko",
                                    "NEV": "Tóth Anikó",
                                    "SZUL_DAT": "1973-06-03",
                                    "(No column name)": "2017-02-23"
                                },
                                {
                                    "USERNEV": "aniko4",
                                    "NEV": "Böröcz Anikó",
                                    "SZUL_DAT": "1978-03-26",
                                    "(No column name)": "2016-10-16"
                                },
                                {
                                    "USERNEV": "ANIKOS",
                                    "NEV": "Simon Anikó",
                                    "SZUL_DAT": "1988-12-14",
                                    "(No column name)": "2016-11-10"
                                },
                                {
                                    "USERNEV": "anita",
                                    "NEV": "Hamvay-Kovács Anita",
                                    "SZUL_DAT": "1971-03-20",
                                    "(No column name)": "2017-02-20"
                                },
                                {
                                    "USERNEV": "annamaria1",
                                    "NEV": "Szűcs Annamária",
                                    "SZUL_DAT": "1990-04-27",
                                    "(No column name)": "2017-01-30"
                                },
                                {
                                    "USERNEV": "ANNAMARIAR",
                                    "NEV": "Regős Annamária",
                                    "SZUL_DAT": "1977-09-26",
                                    "(No column name)": "2017-02-16"
                                },
                                {
                                    "USERNEV": "aron2",
                                    "NEV": "Jakab Áron",
                                    "SZUL_DAT": "1971-04-26",
                                    "(No column name)": "2017-02-26"
                                },
                                {
                                    "USERNEV": "ARONK",
                                    "NEV": "Kelemen Áron",
                                    "SZUL_DAT": "1989-08-10",
                                    "(No column name)": "2017-02-21"
                                },
                                {
                                    "USERNEV": "arpad2",
                                    "NEV": "Ötvös Árpád",
                                    "SZUL_DAT": "1990-06-08",
                                    "(No column name)": "2017-02-18"
                                },
                                {
                                    "USERNEV": "ARPADH",
                                    "NEV": "Horváth Árpád",
                                    "SZUL_DAT": "1990-05-18",
                                    "(No column name)": "2017-02-16"
                                },
                                {
                                    "USERNEV": "ARPADM",
                                    "NEV": "Móricz Árpád",
                                    "SZUL_DAT": "1986-04-20",
                                    "(No column name)": "2017-02-12"
                                },
                                {
                                    "USERNEV": "attila",
                                    "NEV": "Csóti Attila",
                                    "SZUL_DAT": "1979-12-25",
                                    "(No column name)": "2016-12-22"
                                },
                                {
                                    "USERNEV": "attila1",
                                    "NEV": "Gulyás Attila",
                                    "SZUL_DAT": "1982-08-16",
                                    "(No column name)": "2017-01-23"
                                },
                                {
                                    "USERNEV": "attila4",
                                    "NEV": "Baróti Attila",
                                    "SZUL_DAT": "1975-11-06",
                                    "(No column name)": "2017-02-15"
                                },
                                {
                                    "USERNEV": "ATTILAO",
                                    "NEV": "Opra Attila",
                                    "SZUL_DAT": "1995-05-08",
                                    "(No column name)": "2017-02-22"
                                },
                                {
                                    "USERNEV": "balazs1",
                                    "NEV": "Bozsik Balázs",
                                    "SZUL_DAT": "1992-11-03",
                                    "(No column name)": "2017-02-12"
                                },
                                {
                                    "USERNEV": "balazs2",
                                    "NEV": "Szűcs Balázs",
                                    "SZUL_DAT": "1984-10-31",
                                    "(No column name)": "2017-02-27"
                                },
                                {
                                    "USERNEV": "balazs3",
                                    "NEV": "Bakódy Balázs",
                                    "SZUL_DAT": "1986-09-09",
                                    "(No column name)": "2017-01-20"
                                },
                                {
                                    "USERNEV": "balint",
                                    "NEV": "Horváth Bálint",
                                    "SZUL_DAT": "1996-03-17",
                                    "(No column name)": "2016-11-24"
                                },
                                {
                                    "USERNEV": "balint1",
                                    "NEV": "Molnár Bálint",
                                    "SZUL_DAT": "1989-08-24",
                                    "(No column name)": "2017-01-03"
                                },
                                {
                                    "USERNEV": "balint2",
                                    "NEV": "Vukasinovity Bálint",
                                    "SZUL_DAT": "1997-09-03",
                                    "(No column name)": "2016-12-04"
                                },
                                {
                                    "USERNEV": "balu",
                                    "NEV": "Endresz Bálint",
                                    "SZUL_DAT": "1976-08-01",
                                    "(No column name)": "2016-12-22"
                                },
                                {
                                    "USERNEV": "beata4",
                                    "NEV": "Bagi Beáta",
                                    "SZUL_DAT": "1994-03-19",
                                    "(No column name)": "2016-10-03"
                                },
                                {
                                    "USERNEV": "BEATRIXK",
                                    "NEV": "Kerényi Beatrix",
                                    "SZUL_DAT": "1972-04-06",
                                    "(No column name)": "2017-02-08"
                                },
                                {
                                    "USERNEV": "BEATRIXS",
                                    "NEV": "Szekendi Beatrix",
                                    "SZUL_DAT": "1981-04-06",
                                    "(No column name)": "2017-02-03"
                                },
                                {
                                    "USERNEV": "BELAF",
                                    "NEV": "Farkas Béla",
                                    "SZUL_DAT": "1995-02-24",
                                    "(No column name)": "2016-12-06"
                                },
                                {
                                    "USERNEV": "bence",
                                    "NEV": "Győrffy Bence",
                                    "SZUL_DAT": "1987-07-09",
                                    "(No column name)": "2017-02-05"
                                },
                                {
                                    "USERNEV": "BENCEB",
                                    "NEV": "Bajusz Bence",
                                    "SZUL_DAT": "1973-06-21",
                                    "(No column name)": "2017-02-12"
                                },
                                {
                                    "USERNEV": "bernadett1",
                                    "NEV": "Simon Bernadett",
                                    "SZUL_DAT": "1984-10-13",
                                    "(No column name)": "2017-02-24"
                                },
                                {
                                    "USERNEV": "bernadett2",
                                    "NEV": "Kovács Bernadett",
                                    "SZUL_DAT": "1996-08-20",
                                    "(No column name)": "2017-01-24"
                                },
                                {
                                    "USERNEV": "BERNADETTO",
                                    "NEV": "Orbán Bernadett",
                                    "SZUL_DAT": "1987-12-07",
                                    "(No column name)": "2017-01-28"
                                },
                                {
                                    "USERNEV": "bertalan",
                                    "NEV": "Csiger Bertalan",
                                    "SZUL_DAT": "1977-10-15",
                                    "(No column name)": "2017-02-20"
                                },
                                {
                                    "USERNEV": "brigitta",
                                    "NEV": "Székely Brigitta",
                                    "SZUL_DAT": "1978-09-13",
                                    "(No column name)": "2017-01-23"
                                },
                                {
                                    "USERNEV": "brigitta3",
                                    "NEV": "Pataki Brigitta",
                                    "SZUL_DAT": "1991-05-23",
                                    "(No column name)": "2017-02-09"
                                },
                                {
                                    "USERNEV": "csongor3",
                                    "NEV": "Nagymihály Csongor",
                                    "SZUL_DAT": "1984-03-05",
                                    "(No column name)": "2017-02-13"
                                },
                                {
                                    "USERNEV": "dani",
                                    "NEV": "Vörös Dániel",
                                    "SZUL_DAT": "1986-10-14",
                                    "(No column name)": "2017-02-25"
                                },
                                {
                                    "USERNEV": "daniel",
                                    "NEV": "Rácz Dániel",
                                    "SZUL_DAT": "1978-11-28",
                                    "(No column name)": "2017-02-20"
                                },
                                {
                                    "USERNEV": "daniel1",
                                    "NEV": "Keszler Dániel",
                                    "SZUL_DAT": "1969-07-16",
                                    "(No column name)": "2017-03-01"
                                },
                                {
                                    "USERNEV": "david",
                                    "NEV": "Ambrus Dávid",
                                    "SZUL_DAT": "1974-02-11",
                                    "(No column name)": "2017-01-18"
                                },
                                {
                                    "USERNEV": "david1",
                                    "NEV": "Sobják Dávid",
                                    "SZUL_DAT": "1970-08-16",
                                    "(No column name)": "2017-02-25"
                                },
                                {
                                    "USERNEV": "david4",
                                    "NEV": "Berta Dávid",
                                    "SZUL_DAT": "1990-10-08",
                                    "(No column name)": "2017-02-16"
                                },
                                {
                                    "USERNEV": "debora",
                                    "NEV": "Barna Debóra",
                                    "SZUL_DAT": "1976-10-14",
                                    "(No column name)": "2017-02-04"
                                },
                                {
                                    "USERNEV": "denes",
                                    "NEV": "Tömböly Dénes",
                                    "SZUL_DAT": "1975-03-14",
                                    "(No column name)": "2016-11-06"
                                },
                                {
                                    "USERNEV": "dora3",
                                    "NEV": "Sarodi Dóra",
                                    "SZUL_DAT": "1995-05-18",
                                    "(No column name)": "2016-11-22"
                                },
                                {
                                    "USERNEV": "edit",
                                    "NEV": "Bittmann Edit",
                                    "SZUL_DAT": "1984-04-20",
                                    "(No column name)": "2017-02-08"
                                },
                                {
                                    "USERNEV": "emese",
                                    "NEV": "Kuruc Emese",
                                    "SZUL_DAT": "1989-08-10",
                                    "(No column name)": "2017-01-30"
                                },
                                {
                                    "USERNEV": "eszter",
                                    "NEV": "Molnár Eszter",
                                    "SZUL_DAT": "1987-05-10",
                                    "(No column name)": "2016-12-23"
                                },
                                {
                                    "USERNEV": "eszter2",
                                    "NEV": "Balogh Eszter",
                                    "SZUL_DAT": "1998-01-31",
                                    "(No column name)": "2016-12-29"
                                },
                                {
                                    "USERNEV": "eszter4",
                                    "NEV": "Fülöp Eszter",
                                    "SZUL_DAT": "1993-06-28",
                                    "(No column name)": "2017-02-26"
                                },
                                {
                                    "USERNEV": "ESZTERE",
                                    "NEV": "Érsek Eszter",
                                    "SZUL_DAT": "1978-08-28",
                                    "(No column name)": "2017-02-10"
                                },
                                {
                                    "USERNEV": "eva",
                                    "NEV": "Enyedi Éva",
                                    "SZUL_DAT": "1967-06-30",
                                    "(No column name)": "2017-01-14"
                                },
                                {
                                    "USERNEV": "eva2",
                                    "NEV": "Perlinger Éva",
                                    "SZUL_DAT": "1971-08-19",
                                    "(No column name)": "2017-01-06"
                                },
                                {
                                    "USERNEV": "EVAV",
                                    "NEV": "Viktor Éva",
                                    "SZUL_DAT": "1980-12-26",
                                    "(No column name)": "2017-02-04"
                                },
                                {
                                    "USERNEV": "ferenc1",
                                    "NEV": "Orosz Ferenc",
                                    "SZUL_DAT": "1983-10-08",
                                    "(No column name)": "2016-11-07"
                                },
                                {
                                    "USERNEV": "fruzsina4",
                                    "NEV": "Frank Fruzsina",
                                    "SZUL_DAT": "1996-08-16",
                                    "(No column name)": "2017-01-22"
                                },
                                {
                                    "USERNEV": "gabor1",
                                    "NEV": "Köves Gábor",
                                    "SZUL_DAT": "1973-07-15",
                                    "(No column name)": "2016-11-19"
                                },
                                {
                                    "USERNEV": "gabor4",
                                    "NEV": "Telek Gábor",
                                    "SZUL_DAT": "1987-03-15",
                                    "(No column name)": "2016-11-07"
                                },
                                {
                                    "USERNEV": "gabriella1",
                                    "NEV": "Nagy Gabriella",
                                    "SZUL_DAT": "1982-11-01",
                                    "(No column name)": "2017-02-21"
                                },
                                {
                                    "USERNEV": "gabriella10",
                                    "NEV": "Vida Gabriella",
                                    "SZUL_DAT": "1969-06-18",
                                    "(No column name)": "2016-10-01"
                                },
                                {
                                    "USERNEV": "georgij",
                                    "NEV": "Nyíri Georgij",
                                    "SZUL_DAT": "1983-02-23",
                                    "(No column name)": "2016-09-18"
                                },
                                {
                                    "USERNEV": "gusztav",
                                    "NEV": "Bárci Gusztáv",
                                    "SZUL_DAT": "1967-02-25",
                                    "(No column name)": "2017-02-23"
                                },
                                {
                                    "USERNEV": "GYONGYIK",
                                    "NEV": "Kornseé Gyöngyi",
                                    "SZUL_DAT": "1974-06-07",
                                    "(No column name)": "2017-01-22"
                                },
                                {
                                    "USERNEV": "GYORGYO",
                                    "NEV": "Oroszi György",
                                    "SZUL_DAT": "1980-03-23",
                                    "(No column name)": "2017-02-24"
                                },
                                {
                                    "USERNEV": "henrik3",
                                    "NEV": "Nádudvari Henrik",
                                    "SZUL_DAT": "1986-12-05",
                                    "(No column name)": "2017-01-27"
                                },
                                {
                                    "USERNEV": "IBOLYAA",
                                    "NEV": "Andor Ibolya",
                                    "SZUL_DAT": "1983-11-27",
                                    "(No column name)": "2017-01-17"
                                },
                                {
                                    "USERNEV": "ilona3",
                                    "NEV": "Bosnyák Ilona",
                                    "SZUL_DAT": "1990-08-06",
                                    "(No column name)": "2016-12-25"
                                },
                                {
                                    "USERNEV": "imre",
                                    "NEV": "Búza Imre",
                                    "SZUL_DAT": "1988-09-30",
                                    "(No column name)": "2016-10-28"
                                },
                                {
                                    "USERNEV": "imre1",
                                    "NEV": "Papp Imre",
                                    "SZUL_DAT": "1976-06-25",
                                    "(No column name)": "2017-02-05"
                                },
                                {
                                    "USERNEV": "istvan",
                                    "NEV": "Soós István",
                                    "SZUL_DAT": "1986-06-28",
                                    "(No column name)": "2017-01-02"
                                },
                                {
                                    "USERNEV": "istvan1",
                                    "NEV": "Vizi István",
                                    "SZUL_DAT": "1997-12-01",
                                    "(No column name)": "2017-02-07"
                                },
                                {
                                    "USERNEV": "ISTVANV",
                                    "NEV": "Varga István",
                                    "SZUL_DAT": "1989-04-09",
                                    "(No column name)": "2016-09-29"
                                },
                                {
                                    "USERNEV": "janos3",
                                    "NEV": "Harangozó János",
                                    "SZUL_DAT": "1967-11-02",
                                    "(No column name)": "2017-02-12"
                                },
                                {
                                    "USERNEV": "JANOSG",
                                    "NEV": "Giliga János",
                                    "SZUL_DAT": "1975-01-03",
                                    "(No column name)": "2017-01-31"
                                },
                                {
                                    "USERNEV": "JANOSP",
                                    "NEV": "Pálinkás János",
                                    "SZUL_DAT": "1984-10-12",
                                    "(No column name)": "2016-12-18"
                                },
                                {
                                    "USERNEV": "jozsef",
                                    "NEV": "Gergely József",
                                    "SZUL_DAT": "1985-11-01",
                                    "(No column name)": "2016-12-06"
                                },
                                {
                                    "USERNEV": "jozsef2",
                                    "NEV": "Vajda József",
                                    "SZUL_DAT": "1978-09-04",
                                    "(No column name)": "2016-11-25"
                                },
                                {
                                    "USERNEV": "JOZSEFG",
                                    "NEV": "Gyuris József",
                                    "SZUL_DAT": "1975-05-26",
                                    "(No column name)": "2017-02-24"
                                },
                                {
                                    "USERNEV": "JUDITH",
                                    "NEV": "Hídasi Judit",
                                    "SZUL_DAT": "1997-07-12",
                                    "(No column name)": "2016-12-19"
                                },
                                {
                                    "USERNEV": "julia",
                                    "NEV": "Tóth Júlia",
                                    "SZUL_DAT": "1993-03-02",
                                    "(No column name)": "2017-02-27"
                                },
                                {
                                    "USERNEV": "julia4",
                                    "NEV": "Nagy Júlia",
                                    "SZUL_DAT": "1985-08-11",
                                    "(No column name)": "2017-02-04"
                                },
                                {
                                    "USERNEV": "julianna4",
                                    "NEV": "Szabó Julianna",
                                    "SZUL_DAT": "1990-09-29",
                                    "(No column name)": "2016-11-27"
                                },
                                {
                                    "USERNEV": "kata",
                                    "NEV": "Gondos Katalin",
                                    "SZUL_DAT": "1968-06-22",
                                    "(No column name)": "2017-01-15"
                                },
                                {
                                    "USERNEV": "katalin",
                                    "NEV": "Horváth Katalin",
                                    "SZUL_DAT": "1968-01-01",
                                    "(No column name)": "2017-02-24"
                                },
                                {
                                    "USERNEV": "katalin4",
                                    "NEV": "Kertész Katalin",
                                    "SZUL_DAT": "1986-04-13",
                                    "(No column name)": "2017-01-24"
                                },
                                {
                                    "USERNEV": "kati",
                                    "NEV": "Zatykó Katalin",
                                    "SZUL_DAT": "1995-05-01",
                                    "(No column name)": "2016-10-30"
                                },
                                {
                                    "USERNEV": "katka",
                                    "NEV": "Kovács Katalin",
                                    "SZUL_DAT": "1975-03-31",
                                    "(No column name)": "2017-01-19"
                                },
                                {
                                    "USERNEV": "klaudia2",
                                    "NEV": "Bakó Klaudia",
                                    "SZUL_DAT": "1982-04-16",
                                    "(No column name)": "2016-10-02"
                                },
                                {
                                    "USERNEV": "kornel4",
                                    "NEV": "Lukács Kornél",
                                    "SZUL_DAT": "1975-09-30",
                                    "(No column name)": "2016-09-23"
                                },
                                {
                                    "USERNEV": "kristof4",
                                    "NEV": "Poprádi Kristóf",
                                    "SZUL_DAT": "1984-01-15",
                                    "(No column name)": "2016-09-30"
                                },
                                {
                                    "USERNEV": "kriszti",
                                    "NEV": "Horváth Krisztina",
                                    "SZUL_DAT": "1978-06-12",
                                    "(No column name)": "2017-03-03"
                                },
                                {
                                    "USERNEV": "krisztian4",
                                    "NEV": "Czérna Krisztián",
                                    "SZUL_DAT": "1970-08-01",
                                    "(No column name)": "2017-02-23"
                                },
                                {
                                    "USERNEV": "KRISZTIANM",
                                    "NEV": "Mogyródi Krisztián",
                                    "SZUL_DAT": "1968-05-27",
                                    "(No column name)": "2017-01-16"
                                },
                                {
                                    "USERNEV": "krisztina",
                                    "NEV": "Szedlár Krisztina",
                                    "SZUL_DAT": "1979-05-10",
                                    "(No column name)": "2017-02-16"
                                },
                                {
                                    "USERNEV": "krisztina1",
                                    "NEV": "Bori Krisztina",
                                    "SZUL_DAT": "1969-10-13",
                                    "(No column name)": "2017-01-21"
                                },
                                {
                                    "USERNEV": "KRISZTINAG",
                                    "NEV": "Gyárfás Krisztina",
                                    "SZUL_DAT": "1987-09-19",
                                    "(No column name)": "2017-01-25"
                                },
                                {
                                    "USERNEV": "lajos",
                                    "NEV": "Kiss Lajos",
                                    "SZUL_DAT": "1978-10-31",
                                    "(No column name)": "2017-02-12"
                                },
                                {
                                    "USERNEV": "lala",
                                    "NEV": "Nagymihály Lajos",
                                    "SZUL_DAT": "1997-02-24",
                                    "(No column name)": "2017-01-17"
                                },
                                {
                                    "USERNEV": "laszlo1",
                                    "NEV": "Farkas László",
                                    "SZUL_DAT": "1967-10-30",
                                    "(No column name)": "2016-09-23"
                                },
                                {
                                    "USERNEV": "laszlo2",
                                    "NEV": "Móra László",
                                    "SZUL_DAT": "1975-02-19",
                                    "(No column name)": "2016-11-25"
                                },
                                {
                                    "USERNEV": "LASZLOA",
                                    "NEV": "Antal László",
                                    "SZUL_DAT": "1969-06-29",
                                    "(No column name)": "2017-02-08"
                                },
                                {
                                    "USERNEV": "LASZLON",
                                    "NEV": "Nagy László",
                                    "SZUL_DAT": "1969-04-12",
                                    "(No column name)": "2017-02-18"
                                },
                                {
                                    "USERNEV": "maria1",
                                    "NEV": "Baráth Mária",
                                    "SZUL_DAT": "1995-11-19",
                                    "(No column name)": "2017-02-24"
                                },
                                {
                                    "USERNEV": "mark",
                                    "NEV": "Kispál Márk",
                                    "SZUL_DAT": "1996-01-23",
                                    "(No column name)": "2016-11-19"
                                },
                                {
                                    "USERNEV": "MARKH",
                                    "NEV": "Horváth Márk",
                                    "SZUL_DAT": "1997-09-23",
                                    "(No column name)": "2017-01-22"
                                },
                                {
                                    "USERNEV": "marton",
                                    "NEV": "Kalacsi Márton",
                                    "SZUL_DAT": "1989-06-24",
                                    "(No column name)": "2017-03-02"
                                },
                                {
                                    "USERNEV": "MATEK",
                                    "NEV": "Koza Máté",
                                    "SZUL_DAT": "1997-02-28",
                                    "(No column name)": "2017-01-16"
                                },
                                {
                                    "USERNEV": "matyas2",
                                    "NEV": "Botka Mátyás",
                                    "SZUL_DAT": "1972-07-07",
                                    "(No column name)": "2016-12-09"
                                },
                                {
                                    "USERNEV": "MATYASS",
                                    "NEV": "Szilágyi Mátyás",
                                    "SZUL_DAT": "1975-03-22",
                                    "(No column name)": "2017-01-09"
                                },
                                {
                                    "USERNEV": "MIHALYJ",
                                    "NEV": "Juhász Mihály",
                                    "SZUL_DAT": "1979-10-12",
                                    "(No column name)": "2017-02-06"
                                },
                                {
                                    "USERNEV": "miklos2",
                                    "NEV": "Gondos Miklós",
                                    "SZUL_DAT": "1995-10-07",
                                    "(No column name)": "2016-11-16"
                                },
                                {
                                    "USERNEV": "MIKLOSB",
                                    "NEV": "Balla Miklós",
                                    "SZUL_DAT": "1979-02-16",
                                    "(No column name)": "2016-12-05"
                                },
                                {
                                    "USERNEV": "MONIKAM",
                                    "NEV": "Mohos Mónika",
                                    "SZUL_DAT": "1974-10-01",
                                    "(No column name)": "2017-02-23"
                                },
                                {
                                    "USERNEV": "NANDORF",
                                    "NEV": "Fő Nándor",
                                    "SZUL_DAT": "1968-11-12",
                                    "(No column name)": "2017-02-05"
                                },
                                {
                                    "USERNEV": "nikolett3",
                                    "NEV": "Horváth Nikolett",
                                    "SZUL_DAT": "1981-09-29",
                                    "(No column name)": "2016-10-22"
                                },
                                {
                                    "USERNEV": "nikoletta4",
                                    "NEV": "Kő Nikoletta",
                                    "SZUL_DAT": "1972-01-10",
                                    "(No column name)": "2017-02-01"
                                },
                                {
                                    "USERNEV": "NIKOLETTAT",
                                    "NEV": "Tatár Nikoletta",
                                    "SZUL_DAT": "1997-10-19",
                                    "(No column name)": "2016-09-21"
                                },
                                {
                                    "USERNEV": "norbert",
                                    "NEV": "Szűcs Norbert",
                                    "SZUL_DAT": "1969-07-17",
                                    "(No column name)": "2017-02-26"
                                },
                                {
                                    "USERNEV": "norbert2",
                                    "NEV": "Hegedűs Norbert",
                                    "SZUL_DAT": "1991-07-17",
                                    "(No column name)": "2017-01-29"
                                },
                                {
                                    "USERNEV": "norbert4",
                                    "NEV": "Mile Norbert",
                                    "SZUL_DAT": "1983-06-15",
                                    "(No column name)": "2017-03-03"
                                },
                                {
                                    "USERNEV": "norbert5",
                                    "NEV": "Béres Norbert",
                                    "SZUL_DAT": "1975-07-27",
                                    "(No column name)": "2016-11-05"
                                },
                                {
                                    "USERNEV": "pal",
                                    "NEV": "Barabás Pál",
                                    "SZUL_DAT": "1968-02-06",
                                    "(No column name)": "2017-02-20"
                                },
                                {
                                    "USERNEV": "peter1",
                                    "NEV": "Kozma Péter",
                                    "SZUL_DAT": "1976-03-18",
                                    "(No column name)": "2017-02-28"
                                },
                                {
                                    "USERNEV": "peter2",
                                    "NEV": "Bozsó Péter",
                                    "SZUL_DAT": "1976-01-26",
                                    "(No column name)": "2016-11-15"
                                },
                                {
                                    "USERNEV": "peter3",
                                    "NEV": "Szalai Péter",
                                    "SZUL_DAT": "1983-07-18",
                                    "(No column name)": "2017-02-21"
                                },
                                {
                                    "USERNEV": "peter4",
                                    "NEV": "Bíró Péter",
                                    "SZUL_DAT": "1985-09-01",
                                    "(No column name)": "2017-02-05"
                                },
                                {
                                    "USERNEV": "PETERB",
                                    "NEV": "Berendi Péter",
                                    "SZUL_DAT": "1969-01-01",
                                    "(No column name)": "2016-11-17"
                                },
                                {
                                    "USERNEV": "polla",
                                    "NEV": "Palágyi Polla",
                                    "SZUL_DAT": "1994-02-04",
                                    "(No column name)": "2017-02-11"
                                },
                                {
                                    "USERNEV": "rajmond4",
                                    "NEV": "Rácz Rajmond",
                                    "SZUL_DAT": "1993-09-25",
                                    "(No column name)": "2016-11-16"
                                },
                                {
                                    "USERNEV": "reka4",
                                    "NEV": "Szikszai Réka",
                                    "SZUL_DAT": "1969-11-27",
                                    "(No column name)": "2017-02-26"
                                },
                                {
                                    "USERNEV": "RENATAK",
                                    "NEV": "Kardos Renáta",
                                    "SZUL_DAT": "1988-05-17",
                                    "(No column name)": "2017-03-01"
                                },
                                {
                                    "USERNEV": "RENATAS",
                                    "NEV": "Szirmai Renáta",
                                    "SZUL_DAT": "1991-03-26",
                                    "(No column name)": "2017-02-14"
                                },
                                {
                                    "USERNEV": "robert2",
                                    "NEV": "Patay Róbert",
                                    "SZUL_DAT": "1977-01-08",
                                    "(No column name)": "2016-12-17"
                                },
                                {
                                    "USERNEV": "ROBERTI",
                                    "NEV": "Iván Róbert",
                                    "SZUL_DAT": "1967-07-02",
                                    "(No column name)": "2017-02-17"
                                },
                                {
                                    "USERNEV": "ROBERTP",
                                    "NEV": "Pásztor Róbert",
                                    "SZUL_DAT": "1972-05-16",
                                    "(No column name)": "2016-09-08"
                                },
                                {
                                    "USERNEV": "roland",
                                    "NEV": "Tóth Roland",
                                    "SZUL_DAT": "1968-03-21",
                                    "(No column name)": "2016-11-19"
                                },
                                {
                                    "USERNEV": "roland1",
                                    "NEV": "Ferencz Roland",
                                    "SZUL_DAT": "1985-12-31",
                                    "(No column name)": "2017-01-16"
                                },
                                {
                                    "USERNEV": "roza2",
                                    "NEV": "Bucskó Róza",
                                    "SZUL_DAT": "1988-12-26",
                                    "(No column name)": "2017-02-18"
                                },
                                {
                                    "USERNEV": "sandor",
                                    "NEV": "Karasz Sándor",
                                    "SZUL_DAT": "1970-01-27",
                                    "(No column name)": "2016-09-19"
                                },
                                {
                                    "USERNEV": "sandor3",
                                    "NEV": "Farkas Sándor",
                                    "SZUL_DAT": "1989-01-27",
                                    "(No column name)": "2016-11-10"
                                },
                                {
                                    "USERNEV": "sandor4",
                                    "NEV": "Nagy Sándor",
                                    "SZUL_DAT": "1997-06-11",
                                    "(No column name)": "2017-01-22"
                                },
                                {
                                    "USERNEV": "sara",
                                    "NEV": "Farkas Sára",
                                    "SZUL_DAT": "1973-04-05",
                                    "(No column name)": "2016-12-25"
                                },
                                {
                                    "USERNEV": "SEBASTIANF",
                                    "NEV": "Foltényi Sebastián",
                                    "SZUL_DAT": "1992-09-09",
                                    "(No column name)": "2016-09-17"
                                },
                                {
                                    "USERNEV": "sebestyen",
                                    "NEV": "Rab Sebestyén",
                                    "SZUL_DAT": "1992-03-03",
                                    "(No column name)": "2016-10-26"
                                },
                                {
                                    "USERNEV": "szabolcs",
                                    "NEV": "Bodor Szabolcs",
                                    "SZUL_DAT": "1990-07-16",
                                    "(No column name)": "2016-12-05"
                                },
                                {
                                    "USERNEV": "SZABOLCSM",
                                    "NEV": "Miklós Szabolcs",
                                    "SZUL_DAT": "1980-08-11",
                                    "(No column name)": "2017-02-04"
                                },
                                {
                                    "USERNEV": "SZILARDS",
                                    "NEV": "Szalai Szilárd",
                                    "SZUL_DAT": "1967-09-28",
                                    "(No column name)": "2017-02-08"
                                },
                                {
                                    "USERNEV": "szilvia1",
                                    "NEV": "Tari Szilvia",
                                    "SZUL_DAT": "1971-03-09",
                                    "(No column name)": "2017-01-28"
                                },
                                {
                                    "USERNEV": "tamara2",
                                    "NEV": "Miklós Tamara",
                                    "SZUL_DAT": "1980-08-11",
                                    "(No column name)": "2016-11-15"
                                },
                                {
                                    "USERNEV": "tamas",
                                    "NEV": "Antal Tamás",
                                    "SZUL_DAT": "1984-09-05",
                                    "(No column name)": "2017-02-14"
                                },
                                {
                                    "USERNEV": "TAMASF",
                                    "NEV": "Fényes Tamás",
                                    "SZUL_DAT": "1997-11-06",
                                    "(No column name)": "2017-02-16"
                                },
                                {
                                    "USERNEV": "tibor",
                                    "NEV": "Gombos Tibor",
                                    "SZUL_DAT": "1993-11-28",
                                    "(No column name)": "2016-11-05"
                                },
                                {
                                    "USERNEV": "tibor2",
                                    "NEV": "Dániel Tibor",
                                    "SZUL_DAT": "1985-02-02",
                                    "(No column name)": "2016-10-20"
                                },
                                {
                                    "USERNEV": "tihamer",
                                    "NEV": "Kazy Tihamér",
                                    "SZUL_DAT": "1991-07-05",
                                    "(No column name)": "2016-12-25"
                                },
                                {
                                    "USERNEV": "timea",
                                    "NEV": "Papós Tímea",
                                    "SZUL_DAT": "1996-01-08",
                                    "(No column name)": "2016-12-26"
                                },
                                {
                                    "USERNEV": "timea2",
                                    "NEV": "Dusha Tímea",
                                    "SZUL_DAT": "1975-08-22",
                                    "(No column name)": "2016-12-14"
                                },
                                {
                                    "USERNEV": "tunde",
                                    "NEV": "Turcsik Tünde",
                                    "SZUL_DAT": "1974-02-12",
                                    "(No column name)": "2017-01-03"
                                },
                                {
                                    "USERNEV": "valentin",
                                    "NEV": "Feró Valentin",
                                    "SZUL_DAT": "1986-01-09",
                                    "(No column name)": "2016-12-01"
                                },
                                {
                                    "USERNEV": "veronika4",
                                    "NEV": "Tankó Veronika",
                                    "SZUL_DAT": "1983-08-28",
                                    "(No column name)": "2017-02-03"
                                },
                                {
                                    "USERNEV": "VIKTORIAU",
                                    "NEV": "Urbán Viktoria",
                                    "SZUL_DAT": "1996-05-03",
                                    "(No column name)": "2016-10-26"
                                },
                                {
                                    "USERNEV": "VIKTORK",
                                    "NEV": "Keresztúri Viktor",
                                    "SZUL_DAT": "1989-05-05",
                                    "(No column name)": "2016-06-06"
                                },
                                {
                                    "USERNEV": "vivien3",
                                    "NEV": "Boros Vivien",
                                    "SZUL_DAT": "1991-07-01",
                                    "(No column name)": "2016-12-24"
                                },
                                {
                                    "USERNEV": "zoltan",
                                    "NEV": "Fodor Zoltán",
                                    "SZUL_DAT": "1979-11-25",
                                    "(No column name)": "2016-09-05"
                                },
                                {
                                    "USERNEV": "zoltan4",
                                    "NEV": "Barna Zoltán",
                                    "SZUL_DAT": "1986-05-20",
                                    "(No column name)": "2017-01-01"
                                },
                                {
                                    "USERNEV": "ZOLTANP",
                                    "NEV": "Pintér Zoltán",
                                    "SZUL_DAT": "1977-06-07",
                                    "(No column name)": "2016-12-25"
                                },
                                {
                                    "USERNEV": "ZOLTANT",
                                    "NEV": "Tóth Zoltán",
                                    "SZUL_DAT": "1985-12-14",
                                    "(No column name)": "2017-01-16"
                                },
                                {
                                    "USERNEV": "zsofi1",
                                    "NEV": "Molnár Zsófi",
                                    "SZUL_DAT": "1983-11-17",
                                    "(No column name)": "2017-02-18"
                                },
                                {
                                    "USERNEV": "zsolt1",
                                    "NEV": "Pulai Zsolt",
                                    "SZUL_DAT": "1988-05-27",
                                    "(No column name)": "2016-07-31"
                                },
                                {
                                    "USERNEV": "ZSOLTJ",
                                    "NEV": "Józsa Zsolt",
                                    "SZUL_DAT": "1983-09-29",
                                    "(No column name)": "2016-10-01"
                                },
                                {
                                    "USERNEV": "zsuzsa",
                                    "NEV": "Pusztai Zsuzsanna",
                                    "SZUL_DAT": "1980-09-17",
                                    "(No column name)": "2016-11-28"
                                },
                                {
                                    "USERNEV": "zsuzsa3",
                                    "NEV": "Varsányi Zsuzsa",
                                    "SZUL_DAT": "1979-03-06",
                                    "(No column name)": "2016-10-27"
                                },
                                {
                                    "USERNEV": "zsuzsanna",
                                    "NEV": "Barta Zsuzsanna",
                                    "SZUL_DAT": "1994-10-07",
                                    "(No column name)": "2017-01-16"
                                },
                                {
                                    "USERNEV": "ZSUZSAV",
                                    "NEV": "Vajda Zsuzsa",
                                    "SZUL_DAT": "1976-12-11",
                                    "(No column name)": "2016-11-21"
                                }
                            ]
                        },
                        "text/html": "<table><tr><th>USERNEV</th><th>NEV</th><th>SZUL_DAT</th><th>(No column name)</th><th>(No column name)</th></tr><tr><td>adam1</td><td>Kiss Ádám</td><td>1991-12-28</td><td>2016-05-28</td><td>2016-10-19</td></tr><tr><td>adam3</td><td>Barkóci Ádám</td><td>1970-06-07</td><td>2016-09-12</td><td>2017-02-06</td></tr><tr><td>adam4</td><td>Bieniek Ádám</td><td>1976-08-01</td><td>2016-08-28</td><td>2017-02-23</td></tr><tr><td>agnes</td><td>Lengyel Ágnes</td><td>1979-12-10</td><td>2016-05-09</td><td>2016-11-07</td></tr><tr><td>agnes3</td><td>Hartyánszky Ágnes</td><td>1967-04-11</td><td>2016-08-04</td><td>2017-02-16</td></tr><tr><td>AGNESH</td><td>Horváth Ágnes</td><td>1981-12-24</td><td>2016-04-10</td><td>2017-01-16</td></tr><tr><td>AGNESK</td><td>Kovács Ágnes</td><td>1988-10-02</td><td>2016-07-29</td><td>2016-12-17</td></tr><tr><td>akos</td><td>Bíró Ákos</td><td>1982-04-24</td><td>2016-05-18</td><td>2016-12-29</td></tr><tr><td>aladar</td><td>Dunai Aladár</td><td>1980-11-01</td><td>2016-05-17</td><td>2016-11-22</td></tr><tr><td>alexandra</td><td>Bagóczki Alexandra</td><td>1992-03-25</td><td>2016-05-21</td><td>2017-01-19</td></tr><tr><td>andi</td><td>Maródi Andrea</td><td>1968-05-07</td><td>2016-05-08</td><td>2017-01-13</td></tr><tr><td>andras2</td><td>Tóth András</td><td>1997-10-31</td><td>2016-05-30</td><td>2017-02-08</td></tr><tr><td>andras21</td><td>Molnár András</td><td>1977-11-16</td><td>2016-06-21</td><td>2017-01-28</td></tr><tr><td>andras3</td><td>Vígh András</td><td>1971-04-02</td><td>2016-05-01</td><td>2017-02-02</td></tr><tr><td>andras4</td><td>Back András</td><td>1984-04-07</td><td>2016-09-17</td><td>2017-01-09</td></tr><tr><td>andras41</td><td>Komjáti András</td><td>1997-10-25</td><td>2016-05-14</td><td>2016-11-23</td></tr><tr><td>ANDRASE</td><td>Erdei András</td><td>1997-05-29</td><td>2016-04-24</td><td>2016-11-29</td></tr><tr><td>ANDRASN</td><td>Nagy András</td><td>1980-09-05</td><td>2016-11-25</td><td>2016-11-25</td></tr><tr><td>andrea</td><td>Kiss Andrea</td><td>1993-03-25</td><td>2016-07-27</td><td>2017-02-09</td></tr><tr><td>andrea3</td><td>Szomor Andrea</td><td>1996-05-10</td><td>2016-11-19</td><td>2016-11-19</td></tr><tr><td>andrea4</td><td>Neizer Andrea</td><td>1981-05-17</td><td>2016-05-27</td><td>2017-01-22</td></tr><tr><td>ANDREAT</td><td>Tornyos Andrea</td><td>1986-11-14</td><td>2016-07-27</td><td>2016-10-08</td></tr><tr><td>anett3</td><td>Pivarcsi Anett</td><td>1967-01-03</td><td>2016-04-10</td><td>2016-10-16</td></tr><tr><td>aniko</td><td>Tóth Anikó</td><td>1973-06-03</td><td>2016-06-25</td><td>2017-02-23</td></tr><tr><td>aniko4</td><td>Böröcz Anikó</td><td>1978-03-26</td><td>2016-07-02</td><td>2016-10-16</td></tr><tr><td>ANIKOS</td><td>Simon Anikó</td><td>1988-12-14</td><td>2016-04-19</td><td>2016-11-10</td></tr><tr><td>anita</td><td>Hamvay-Kovács Anita</td><td>1971-03-20</td><td>2016-09-28</td><td>2017-02-20</td></tr><tr><td>annamaria1</td><td>Szűcs Annamária</td><td>1990-04-27</td><td>2016-06-06</td><td>2017-01-30</td></tr><tr><td>ANNAMARIAR</td><td>Regős Annamária</td><td>1977-09-26</td><td>2016-06-08</td><td>2017-02-16</td></tr><tr><td>aron2</td><td>Jakab Áron</td><td>1971-04-26</td><td>2016-04-11</td><td>2017-02-26</td></tr><tr><td>ARONK</td><td>Kelemen Áron</td><td>1989-08-10</td><td>2016-04-06</td><td>2017-02-21</td></tr><tr><td>arpad2</td><td>Ötvös Árpád</td><td>1990-06-08</td><td>2016-06-05</td><td>2017-02-18</td></tr><tr><td>ARPADH</td><td>Horváth Árpád</td><td>1990-05-18</td><td>2016-06-06</td><td>2017-02-16</td></tr><tr><td>ARPADM</td><td>Móricz Árpád</td><td>1986-04-20</td><td>2016-05-29</td><td>2017-02-12</td></tr><tr><td>attila</td><td>Csóti Attila</td><td>1979-12-25</td><td>2016-09-30</td><td>2016-12-22</td></tr><tr><td>attila1</td><td>Gulyás Attila</td><td>1982-08-16</td><td>2016-05-20</td><td>2017-01-23</td></tr><tr><td>attila4</td><td>Baróti Attila</td><td>1975-11-06</td><td>2016-08-18</td><td>2017-02-15</td></tr><tr><td>ATTILAO</td><td>Opra Attila</td><td>1995-05-08</td><td>2016-05-21</td><td>2017-02-22</td></tr><tr><td>balazs1</td><td>Bozsik Balázs</td><td>1992-11-03</td><td>2016-05-07</td><td>2017-02-12</td></tr><tr><td>balazs2</td><td>Szűcs Balázs</td><td>1984-10-31</td><td>2016-04-16</td><td>2017-02-27</td></tr><tr><td>balazs3</td><td>Bakódy Balázs</td><td>1986-09-09</td><td>2016-07-17</td><td>2017-01-20</td></tr><tr><td>balint</td><td>Horváth Bálint</td><td>1996-03-17</td><td>2016-04-22</td><td>2016-11-24</td></tr><tr><td>balint1</td><td>Molnár Bálint</td><td>1989-08-24</td><td>2016-06-07</td><td>2017-01-03</td></tr><tr><td>balint2</td><td>Vukasinovity Bálint</td><td>1997-09-03</td><td>2016-07-21</td><td>2016-12-04</td></tr><tr><td>balu</td><td>Endresz Bálint</td><td>1976-08-01</td><td>2016-08-06</td><td>2016-12-22</td></tr><tr><td>beata4</td><td>Bagi Beáta</td><td>1994-03-19</td><td>2016-04-20</td><td>2016-10-03</td></tr><tr><td>BEATRIXK</td><td>Kerényi Beatrix</td><td>1972-04-06</td><td>2016-06-10</td><td>2017-02-08</td></tr><tr><td>BEATRIXS</td><td>Szekendi Beatrix</td><td>1981-04-06</td><td>2016-04-18</td><td>2017-02-03</td></tr><tr><td>BELAF</td><td>Farkas Béla</td><td>1995-02-24</td><td>2016-07-27</td><td>2016-12-06</td></tr><tr><td>bence</td><td>Győrffy Bence</td><td>1987-07-09</td><td>2016-05-08</td><td>2017-02-05</td></tr><tr><td>BENCEB</td><td>Bajusz Bence</td><td>1973-06-21</td><td>2016-05-14</td><td>2017-02-12</td></tr><tr><td>bernadett1</td><td>Simon Bernadett</td><td>1984-10-13</td><td>2016-06-12</td><td>2017-02-24</td></tr><tr><td>bernadett2</td><td>Kovács Bernadett</td><td>1996-08-20</td><td>2016-05-01</td><td>2017-01-24</td></tr><tr><td>BERNADETTO</td><td>Orbán Bernadett</td><td>1987-12-07</td><td>2016-04-10</td><td>2017-01-28</td></tr><tr><td>bertalan</td><td>Csiger Bertalan</td><td>1977-10-15</td><td>2016-05-18</td><td>2017-02-20</td></tr><tr><td>brigitta</td><td>Székely Brigitta</td><td>1978-09-13</td><td>2016-05-30</td><td>2017-01-23</td></tr><tr><td>brigitta3</td><td>Pataki Brigitta</td><td>1991-05-23</td><td>2016-06-01</td><td>2017-02-09</td></tr><tr><td>csongor3</td><td>Nagymihály Csongor</td><td>1984-03-05</td><td>2016-05-01</td><td>2017-02-13</td></tr><tr><td>dani</td><td>Vörös Dániel</td><td>1986-10-14</td><td>2016-06-06</td><td>2017-02-25</td></tr><tr><td>daniel</td><td>Rácz Dániel</td><td>1978-11-28</td><td>2016-04-10</td><td>2017-02-20</td></tr><tr><td>daniel1</td><td>Keszler Dániel</td><td>1969-07-16</td><td>2016-04-10</td><td>2017-03-01</td></tr><tr><td>david</td><td>Ambrus Dávid</td><td>1974-02-11</td><td>2016-05-18</td><td>2017-01-18</td></tr><tr><td>david1</td><td>Sobják Dávid</td><td>1970-08-16</td><td>2016-09-20</td><td>2017-02-25</td></tr><tr><td>david4</td><td>Berta Dávid</td><td>1990-10-08</td><td>2017-02-16</td><td>2017-02-16</td></tr><tr><td>debora</td><td>Barna Debóra</td><td>1976-10-14</td><td>2016-06-22</td><td>2017-02-04</td></tr><tr><td>denes</td><td>Tömböly Dénes</td><td>1975-03-14</td><td>2016-05-27</td><td>2016-11-06</td></tr><tr><td>dora3</td><td>Sarodi Dóra</td><td>1995-05-18</td><td>2016-08-16</td><td>2016-11-22</td></tr><tr><td>edit</td><td>Bittmann Edit</td><td>1984-04-20</td><td>2016-07-14</td><td>2017-02-08</td></tr><tr><td>emese</td><td>Kuruc Emese</td><td>1989-08-10</td><td>2016-07-22</td><td>2017-01-30</td></tr><tr><td>eszter</td><td>Molnár Eszter</td><td>1987-05-10</td><td>2016-08-12</td><td>2016-12-23</td></tr><tr><td>eszter2</td><td>Balogh Eszter</td><td>1998-01-31</td><td>2016-06-30</td><td>2016-12-29</td></tr><tr><td>eszter4</td><td>Fülöp Eszter</td><td>1993-06-28</td><td>2017-01-05</td><td>2017-02-26</td></tr><tr><td>ESZTERE</td><td>Érsek Eszter</td><td>1978-08-28</td><td>2016-05-30</td><td>2017-02-10</td></tr><tr><td>eva</td><td>Enyedi Éva</td><td>1967-06-30</td><td>2016-10-06</td><td>2017-01-14</td></tr><tr><td>eva2</td><td>Perlinger Éva</td><td>1971-08-19</td><td>2016-09-02</td><td>2017-01-06</td></tr><tr><td>EVAV</td><td>Viktor Éva</td><td>1980-12-26</td><td>2016-05-01</td><td>2017-02-04</td></tr><tr><td>ferenc1</td><td>Orosz Ferenc</td><td>1983-10-08</td><td>2016-05-08</td><td>2016-11-07</td></tr><tr><td>fruzsina4</td><td>Frank Fruzsina</td><td>1996-08-16</td><td>2016-06-02</td><td>2017-01-22</td></tr><tr><td>gabor1</td><td>Köves Gábor</td><td>1973-07-15</td><td>2016-06-20</td><td>2016-11-19</td></tr><tr><td>gabor4</td><td>Telek Gábor</td><td>1987-03-15</td><td>2016-04-26</td><td>2016-11-07</td></tr><tr><td>gabriella1</td><td>Nagy Gabriella</td><td>1982-11-01</td><td>2016-04-21</td><td>2017-02-21</td></tr><tr><td>gabriella10</td><td>Vida Gabriella</td><td>1969-06-18</td><td>2016-10-01</td><td>2016-10-01</td></tr><tr><td>georgij</td><td>Nyíri Georgij</td><td>1983-02-23</td><td>2016-06-16</td><td>2016-09-18</td></tr><tr><td>gusztav</td><td>Bárci Gusztáv</td><td>1967-02-25</td><td>2016-05-06</td><td>2017-02-23</td></tr><tr><td>GYONGYIK</td><td>Kornseé Gyöngyi</td><td>1974-06-07</td><td>2016-06-02</td><td>2017-01-22</td></tr><tr><td>GYORGYO</td><td>Oroszi György</td><td>1980-03-23</td><td>2016-05-27</td><td>2017-02-24</td></tr><tr><td>henrik3</td><td>Nádudvari Henrik</td><td>1986-12-05</td><td>2016-08-24</td><td>2017-01-27</td></tr><tr><td>IBOLYAA</td><td>Andor Ibolya</td><td>1983-11-27</td><td>2016-08-29</td><td>2017-01-17</td></tr><tr><td>ilona3</td><td>Bosnyák Ilona</td><td>1990-08-06</td><td>2016-07-31</td><td>2016-12-25</td></tr><tr><td>imre</td><td>Búza Imre</td><td>1988-09-30</td><td>2016-09-17</td><td>2016-10-28</td></tr><tr><td>imre1</td><td>Papp Imre</td><td>1976-06-25</td><td>2016-06-23</td><td>2017-02-05</td></tr><tr><td>istvan</td><td>Soós István</td><td>1986-06-28</td><td>2016-10-07</td><td>2017-01-02</td></tr><tr><td>istvan1</td><td>Vizi István</td><td>1997-12-01</td><td>2016-04-16</td><td>2017-02-07</td></tr><tr><td>ISTVANV</td><td>Varga István</td><td>1989-04-09</td><td>2016-07-01</td><td>2016-09-29</td></tr><tr><td>janos3</td><td>Harangozó János</td><td>1967-11-02</td><td>2016-06-04</td><td>2017-02-12</td></tr><tr><td>JANOSG</td><td>Giliga János</td><td>1975-01-03</td><td>2016-05-09</td><td>2017-01-31</td></tr><tr><td>JANOSP</td><td>Pálinkás János</td><td>1984-10-12</td><td>2016-07-04</td><td>2016-12-18</td></tr><tr><td>jozsef</td><td>Gergely József</td><td>1985-11-01</td><td>2016-09-13</td><td>2016-12-06</td></tr><tr><td>jozsef2</td><td>Vajda József</td><td>1978-09-04</td><td>2016-07-06</td><td>2016-11-25</td></tr><tr><td>JOZSEFG</td><td>Gyuris József</td><td>1975-05-26</td><td>2016-05-02</td><td>2017-02-24</td></tr><tr><td>JUDITH</td><td>Hídasi Judit</td><td>1997-07-12</td><td>2016-06-06</td><td>2016-12-19</td></tr><tr><td>julia</td><td>Tóth Júlia</td><td>1993-03-02</td><td>2016-04-21</td><td>2017-02-27</td></tr><tr><td>julia4</td><td>Nagy Júlia</td><td>1985-08-11</td><td>2016-11-07</td><td>2017-02-04</td></tr><tr><td>julianna4</td><td>Szabó Julianna</td><td>1990-09-29</td><td>2016-07-20</td><td>2016-11-27</td></tr><tr><td>kata</td><td>Gondos Katalin</td><td>1968-06-22</td><td>2016-04-10</td><td>2017-01-15</td></tr><tr><td>katalin</td><td>Horváth Katalin</td><td>1968-01-01</td><td>2016-04-10</td><td>2017-02-24</td></tr><tr><td>katalin4</td><td>Kertész Katalin</td><td>1986-04-13</td><td>2016-07-01</td><td>2017-01-24</td></tr><tr><td>kati</td><td>Zatykó Katalin</td><td>1995-05-01</td><td>2016-06-06</td><td>2016-10-30</td></tr><tr><td>katka</td><td>Kovács Katalin</td><td>1975-03-31</td><td>2016-04-10</td><td>2017-01-19</td></tr><tr><td>klaudia2</td><td>Bakó Klaudia</td><td>1982-04-16</td><td>2016-06-06</td><td>2016-10-02</td></tr><tr><td>kornel4</td><td>Lukács Kornél</td><td>1975-09-30</td><td>2016-05-08</td><td>2016-09-23</td></tr><tr><td>kristof4</td><td>Poprádi Kristóf</td><td>1984-01-15</td><td>2016-04-08</td><td>2016-09-30</td></tr><tr><td>kriszti</td><td>Horváth Krisztina</td><td>1978-06-12</td><td>2016-05-19</td><td>2017-03-03</td></tr><tr><td>krisztian4</td><td>Czérna Krisztián</td><td>1970-08-01</td><td>2016-06-03</td><td>2017-02-23</td></tr><tr><td>KRISZTIANM</td><td>Mogyródi Krisztián</td><td>1968-05-27</td><td>2016-04-09</td><td>2017-01-16</td></tr><tr><td>krisztina</td><td>Szedlár Krisztina</td><td>1979-05-10</td><td>2016-05-21</td><td>2017-02-16</td></tr><tr><td>krisztina1</td><td>Bori Krisztina</td><td>1969-10-13</td><td>2016-04-28</td><td>2017-01-21</td></tr><tr><td>KRISZTINAG</td><td>Gyárfás Krisztina</td><td>1987-09-19</td><td>2016-04-23</td><td>2017-01-25</td></tr><tr><td>lajos</td><td>Kiss Lajos</td><td>1978-10-31</td><td>2016-07-18</td><td>2017-02-12</td></tr><tr><td>lala</td><td>Nagymihály Lajos</td><td>1997-02-24</td><td>2016-06-16</td><td>2017-01-17</td></tr><tr><td>laszlo1</td><td>Farkas László</td><td>1967-10-30</td><td>2016-09-23</td><td>2016-09-23</td></tr><tr><td>laszlo2</td><td>Móra László</td><td>1975-02-19</td><td>2016-04-06</td><td>2016-11-25</td></tr><tr><td>LASZLOA</td><td>Antal László</td><td>1969-06-29</td><td>2016-06-03</td><td>2017-02-08</td></tr><tr><td>LASZLON</td><td>Nagy László</td><td>1969-04-12</td><td>2016-06-03</td><td>2017-02-18</td></tr><tr><td>maria1</td><td>Baráth Mária</td><td>1995-11-19</td><td>2016-05-13</td><td>2017-02-24</td></tr><tr><td>mark</td><td>Kispál Márk</td><td>1996-01-23</td><td>2016-04-19</td><td>2016-11-19</td></tr><tr><td>MARKH</td><td>Horváth Márk</td><td>1997-09-23</td><td>2016-09-14</td><td>2017-01-22</td></tr><tr><td>marton</td><td>Kalacsi Márton</td><td>1989-06-24</td><td>2016-04-27</td><td>2017-03-02</td></tr><tr><td>MATEK</td><td>Koza Máté</td><td>1997-02-28</td><td>2016-08-17</td><td>2017-01-16</td></tr><tr><td>matyas2</td><td>Botka Mátyás</td><td>1972-07-07</td><td>2016-07-13</td><td>2016-12-09</td></tr><tr><td>MATYASS</td><td>Szilágyi Mátyás</td><td>1975-03-22</td><td>2016-05-10</td><td>2017-01-09</td></tr><tr><td>MIHALYJ</td><td>Juhász Mihály</td><td>1979-10-12</td><td>2016-05-30</td><td>2017-02-06</td></tr><tr><td>miklos2</td><td>Gondos Miklós</td><td>1995-10-07</td><td>2016-04-19</td><td>2016-11-16</td></tr><tr><td>MIKLOSB</td><td>Balla Miklós</td><td>1979-02-16</td><td>2016-06-26</td><td>2016-12-05</td></tr><tr><td>MONIKAM</td><td>Mohos Mónika</td><td>1974-10-01</td><td>2016-04-29</td><td>2017-02-23</td></tr><tr><td>NANDORF</td><td>Fő Nándor</td><td>1968-11-12</td><td>2016-04-06</td><td>2017-02-05</td></tr><tr><td>nikolett3</td><td>Horváth Nikolett</td><td>1981-09-29</td><td>2016-05-24</td><td>2016-10-22</td></tr><tr><td>nikoletta4</td><td>Kő Nikoletta</td><td>1972-01-10</td><td>2016-04-08</td><td>2017-02-01</td></tr><tr><td>NIKOLETTAT</td><td>Tatár Nikoletta</td><td>1997-10-19</td><td>2016-05-22</td><td>2016-09-21</td></tr><tr><td>norbert</td><td>Szűcs Norbert</td><td>1969-07-17</td><td>2016-07-08</td><td>2017-02-26</td></tr><tr><td>norbert2</td><td>Hegedűs Norbert</td><td>1991-07-17</td><td>2016-04-19</td><td>2017-01-29</td></tr><tr><td>norbert4</td><td>Mile Norbert</td><td>1983-06-15</td><td>2016-04-10</td><td>2017-03-03</td></tr><tr><td>norbert5</td><td>Béres Norbert</td><td>1975-07-27</td><td>2016-06-24</td><td>2016-11-05</td></tr><tr><td>pal</td><td>Barabás Pál</td><td>1968-02-06</td><td>2016-08-14</td><td>2017-02-20</td></tr><tr><td>peter1</td><td>Kozma Péter</td><td>1976-03-18</td><td>2016-07-14</td><td>2017-02-28</td></tr><tr><td>peter2</td><td>Bozsó Péter</td><td>1976-01-26</td><td>2016-07-03</td><td>2016-11-15</td></tr><tr><td>peter3</td><td>Szalai Péter</td><td>1983-07-18</td><td>2016-06-30</td><td>2017-02-21</td></tr><tr><td>peter4</td><td>Bíró Péter</td><td>1985-09-01</td><td>2016-04-12</td><td>2017-02-05</td></tr><tr><td>PETERB</td><td>Berendi Péter</td><td>1969-01-01</td><td>2016-04-06</td><td>2016-11-17</td></tr><tr><td>polla</td><td>Palágyi Polla</td><td>1994-02-04</td><td>2016-04-17</td><td>2017-02-11</td></tr><tr><td>rajmond4</td><td>Rácz Rajmond</td><td>1993-09-25</td><td>2016-09-05</td><td>2016-11-16</td></tr><tr><td>reka4</td><td>Szikszai Réka</td><td>1969-11-27</td><td>2016-07-27</td><td>2017-02-26</td></tr><tr><td>RENATAK</td><td>Kardos Renáta</td><td>1988-05-17</td><td>2016-10-27</td><td>2017-03-01</td></tr><tr><td>RENATAS</td><td>Szirmai Renáta</td><td>1991-03-26</td><td>2016-05-04</td><td>2017-02-14</td></tr><tr><td>robert2</td><td>Patay Róbert</td><td>1977-01-08</td><td>2016-05-15</td><td>2016-12-17</td></tr><tr><td>ROBERTI</td><td>Iván Róbert</td><td>1967-07-02</td><td>2016-07-12</td><td>2017-02-17</td></tr><tr><td>ROBERTP</td><td>Pásztor Róbert</td><td>1972-05-16</td><td>2016-07-30</td><td>2016-09-08</td></tr><tr><td>roland</td><td>Tóth Roland</td><td>1968-03-21</td><td>2016-06-09</td><td>2016-11-19</td></tr><tr><td>roland1</td><td>Ferencz Roland</td><td>1985-12-31</td><td>2016-11-05</td><td>2017-01-16</td></tr><tr><td>roza2</td><td>Bucskó Róza</td><td>1988-12-26</td><td>2016-09-10</td><td>2017-02-18</td></tr><tr><td>sandor</td><td>Karasz Sándor</td><td>1970-01-27</td><td>2016-07-04</td><td>2016-09-19</td></tr><tr><td>sandor3</td><td>Farkas Sándor</td><td>1989-01-27</td><td>2016-05-12</td><td>2016-11-10</td></tr><tr><td>sandor4</td><td>Nagy Sándor</td><td>1997-06-11</td><td>2016-10-15</td><td>2017-01-22</td></tr><tr><td>sara</td><td>Farkas Sára</td><td>1973-04-05</td><td>2016-05-28</td><td>2016-12-25</td></tr><tr><td>SEBASTIANF</td><td>Foltényi Sebastián</td><td>1992-09-09</td><td>2016-04-06</td><td>2016-09-17</td></tr><tr><td>sebestyen</td><td>Rab Sebestyén</td><td>1992-03-03</td><td>2016-04-07</td><td>2016-10-26</td></tr><tr><td>szabolcs</td><td>Bodor Szabolcs</td><td>1990-07-16</td><td>2016-12-05</td><td>2016-12-05</td></tr><tr><td>SZABOLCSM</td><td>Miklós Szabolcs</td><td>1980-08-11</td><td>2016-06-18</td><td>2017-02-04</td></tr><tr><td>SZILARDS</td><td>Szalai Szilárd</td><td>1967-09-28</td><td>2016-04-23</td><td>2017-02-08</td></tr><tr><td>szilvia1</td><td>Tari Szilvia</td><td>1971-03-09</td><td>2016-05-14</td><td>2017-01-28</td></tr><tr><td>tamara2</td><td>Miklós Tamara</td><td>1980-08-11</td><td>2016-08-12</td><td>2016-11-15</td></tr><tr><td>tamas</td><td>Antal Tamás</td><td>1984-09-05</td><td>2016-05-17</td><td>2017-02-14</td></tr><tr><td>TAMASF</td><td>Fényes Tamás</td><td>1997-11-06</td><td>2016-05-03</td><td>2017-02-16</td></tr><tr><td>tibor</td><td>Gombos Tibor</td><td>1993-11-28</td><td>2016-10-09</td><td>2016-11-05</td></tr><tr><td>tibor2</td><td>Dániel Tibor</td><td>1985-02-02</td><td>2016-10-20</td><td>2016-10-20</td></tr><tr><td>tihamer</td><td>Kazy Tihamér</td><td>1991-07-05</td><td>2016-05-30</td><td>2016-12-25</td></tr><tr><td>timea</td><td>Papós Tímea</td><td>1996-01-08</td><td>2016-12-26</td><td>2016-12-26</td></tr><tr><td>timea2</td><td>Dusha Tímea</td><td>1975-08-22</td><td>2016-06-06</td><td>2016-12-14</td></tr><tr><td>tunde</td><td>Turcsik Tünde</td><td>1974-02-12</td><td>2016-06-03</td><td>2017-01-03</td></tr><tr><td>valentin</td><td>Feró Valentin</td><td>1986-01-09</td><td>2016-05-24</td><td>2016-12-01</td></tr><tr><td>veronika4</td><td>Tankó Veronika</td><td>1983-08-28</td><td>2016-05-30</td><td>2017-02-03</td></tr><tr><td>VIKTORIAU</td><td>Urbán Viktoria</td><td>1996-05-03</td><td>2016-04-30</td><td>2016-10-26</td></tr><tr><td>VIKTORK</td><td>Keresztúri Viktor</td><td>1989-05-05</td><td>2016-05-30</td><td>2016-06-06</td></tr><tr><td>vivien3</td><td>Boros Vivien</td><td>1991-07-01</td><td>2016-05-02</td><td>2016-12-24</td></tr><tr><td>zoltan</td><td>Fodor Zoltán</td><td>1979-11-25</td><td>2016-08-24</td><td>2016-09-05</td></tr><tr><td>zoltan4</td><td>Barna Zoltán</td><td>1986-05-20</td><td>2016-05-12</td><td>2017-01-01</td></tr><tr><td>ZOLTANP</td><td>Pintér Zoltán</td><td>1977-06-07</td><td>2016-06-05</td><td>2016-12-25</td></tr><tr><td>ZOLTANT</td><td>Tóth Zoltán</td><td>1985-12-14</td><td>2016-05-01</td><td>2017-01-16</td></tr><tr><td>zsofi1</td><td>Molnár Zsófi</td><td>1983-11-17</td><td>2016-06-16</td><td>2017-02-18</td></tr><tr><td>zsolt1</td><td>Pulai Zsolt</td><td>1988-05-27</td><td>2016-04-14</td><td>2016-07-31</td></tr><tr><td>ZSOLTJ</td><td>Józsa Zsolt</td><td>1983-09-29</td><td>2016-04-24</td><td>2016-10-01</td></tr><tr><td>zsuzsa</td><td>Pusztai Zsuzsanna</td><td>1980-09-17</td><td>2016-07-24</td><td>2016-11-28</td></tr><tr><td>zsuzsa3</td><td>Varsányi Zsuzsa</td><td>1979-03-06</td><td>2016-07-30</td><td>2016-10-27</td></tr><tr><td>zsuzsanna</td><td>Barta Zsuzsanna</td><td>1994-10-07</td><td>2016-05-17</td><td>2017-01-16</td></tr><tr><td>ZSUZSAV</td><td>Vajda Zsuzsa</td><td>1976-12-11</td><td>2016-04-14</td><td>2016-11-21</td></tr></table>"
                    },
                    "metadata": {}
                }
            ],
            "execution_count": 9
        },
        {
            "cell_type": "code",
            "source": [
                "select \r\n",
                "    iif(SZOBA_ID is null, 'Vegosszeg', cast(SZOBA_ID as nvarchar(20))) as szoba,\r\n",
                "    iif(day(mettol) is null, 'Reszosszeg', cast(day(mettol) as nvarchar(2))) as nap,\r\n",
                "    count(*)\r\n",
                "from Foglalas f join Szoba sz on f.SZOBA_FK = sz.SZOBA_ID\r\n",
                "group by rollup (SZOBA_ID, day(METTOL), (SZOBA_ID, day(METTOL)))\r\n",
                "having count(*) >= 2"
            ],
            "metadata": {
                "language": "sql",
                "azdata_cell_guid": "78cabcb8-c7d7-49e9-b327-f4b1bb1c793c"
            },
            "outputs": [
                {
                    "output_type": "display_data",
                    "data": {
                        "text/html": "(358 rows affected)"
                    },
                    "metadata": {}
                },
                {
                    "output_type": "display_data",
                    "data": {
                        "text/html": "Total execution time: 00:00:00.026"
                    },
                    "metadata": {}
                },
                {
                    "output_type": "execute_result",
                    "execution_count": 13,
                    "data": {
                        "application/vnd.dataresource+json": {
                            "schema": {
                                "fields": [
                                    {
                                        "name": "szoba"
                                    },
                                    {
                                        "name": "nap"
                                    },
                                    {
                                        "name": "(No column name)"
                                    }
                                ]
                            },
                            "data": [
                                {
                                    "szoba": "1",
                                    "nap": "Reszosszeg",
                                    "(No column name)": "8"
                                },
                                {
                                    "szoba": "2",
                                    "nap": "Reszosszeg",
                                    "(No column name)": "4"
                                },
                                {
                                    "szoba": "3",
                                    "nap": "16",
                                    "(No column name)": "2"
                                },
                                {
                                    "szoba": "3",
                                    "nap": "Reszosszeg",
                                    "(No column name)": "8"
                                },
                                {
                                    "szoba": "4",
                                    "nap": "Reszosszeg",
                                    "(No column name)": "6"
                                },
                                {
                                    "szoba": "5",
                                    "nap": "Reszosszeg",
                                    "(No column name)": "4"
                                },
                                {
                                    "szoba": "6",
                                    "nap": "Reszosszeg",
                                    "(No column name)": "6"
                                },
                                {
                                    "szoba": "7",
                                    "nap": "6",
                                    "(No column name)": "2"
                                },
                                {
                                    "szoba": "7",
                                    "nap": "Reszosszeg",
                                    "(No column name)": "6"
                                },
                                {
                                    "szoba": "8",
                                    "nap": "Reszosszeg",
                                    "(No column name)": "5"
                                },
                                {
                                    "szoba": "9",
                                    "nap": "Reszosszeg",
                                    "(No column name)": "6"
                                },
                                {
                                    "szoba": "10",
                                    "nap": "Reszosszeg",
                                    "(No column name)": "4"
                                },
                                {
                                    "szoba": "11",
                                    "nap": "Reszosszeg",
                                    "(No column name)": "4"
                                },
                                {
                                    "szoba": "12",
                                    "nap": "9",
                                    "(No column name)": "3"
                                },
                                {
                                    "szoba": "12",
                                    "nap": "Reszosszeg",
                                    "(No column name)": "9"
                                },
                                {
                                    "szoba": "13",
                                    "nap": "Reszosszeg",
                                    "(No column name)": "4"
                                },
                                {
                                    "szoba": "14",
                                    "nap": "Reszosszeg",
                                    "(No column name)": "3"
                                },
                                {
                                    "szoba": "15",
                                    "nap": "16",
                                    "(No column name)": "2"
                                },
                                {
                                    "szoba": "15",
                                    "nap": "Reszosszeg",
                                    "(No column name)": "6"
                                },
                                {
                                    "szoba": "16",
                                    "nap": "Reszosszeg",
                                    "(No column name)": "5"
                                },
                                {
                                    "szoba": "17",
                                    "nap": "Reszosszeg",
                                    "(No column name)": "6"
                                },
                                {
                                    "szoba": "18",
                                    "nap": "Reszosszeg",
                                    "(No column name)": "6"
                                },
                                {
                                    "szoba": "19",
                                    "nap": "14",
                                    "(No column name)": "2"
                                },
                                {
                                    "szoba": "19",
                                    "nap": "Reszosszeg",
                                    "(No column name)": "6"
                                },
                                {
                                    "szoba": "20",
                                    "nap": "1",
                                    "(No column name)": "2"
                                },
                                {
                                    "szoba": "20",
                                    "nap": "Reszosszeg",
                                    "(No column name)": "5"
                                },
                                {
                                    "szoba": "21",
                                    "nap": "21",
                                    "(No column name)": "2"
                                },
                                {
                                    "szoba": "21",
                                    "nap": "Reszosszeg",
                                    "(No column name)": "4"
                                },
                                {
                                    "szoba": "22",
                                    "nap": "Reszosszeg",
                                    "(No column name)": "6"
                                },
                                {
                                    "szoba": "23",
                                    "nap": "Reszosszeg",
                                    "(No column name)": "3"
                                },
                                {
                                    "szoba": "24",
                                    "nap": "Reszosszeg",
                                    "(No column name)": "3"
                                },
                                {
                                    "szoba": "25",
                                    "nap": "14",
                                    "(No column name)": "2"
                                },
                                {
                                    "szoba": "25",
                                    "nap": "Reszosszeg",
                                    "(No column name)": "2"
                                },
                                {
                                    "szoba": "26",
                                    "nap": "Reszosszeg",
                                    "(No column name)": "2"
                                },
                                {
                                    "szoba": "27",
                                    "nap": "5",
                                    "(No column name)": "2"
                                },
                                {
                                    "szoba": "27",
                                    "nap": "Reszosszeg",
                                    "(No column name)": "7"
                                },
                                {
                                    "szoba": "28",
                                    "nap": "Reszosszeg",
                                    "(No column name)": "6"
                                },
                                {
                                    "szoba": "29",
                                    "nap": "1",
                                    "(No column name)": "2"
                                },
                                {
                                    "szoba": "29",
                                    "nap": "23",
                                    "(No column name)": "2"
                                },
                                {
                                    "szoba": "29",
                                    "nap": "Reszosszeg",
                                    "(No column name)": "6"
                                },
                                {
                                    "szoba": "30",
                                    "nap": "Reszosszeg",
                                    "(No column name)": "3"
                                },
                                {
                                    "szoba": "31",
                                    "nap": "27",
                                    "(No column name)": "2"
                                },
                                {
                                    "szoba": "31",
                                    "nap": "Reszosszeg",
                                    "(No column name)": "3"
                                },
                                {
                                    "szoba": "33",
                                    "nap": "5",
                                    "(No column name)": "2"
                                },
                                {
                                    "szoba": "33",
                                    "nap": "Reszosszeg",
                                    "(No column name)": "6"
                                },
                                {
                                    "szoba": "34",
                                    "nap": "Reszosszeg",
                                    "(No column name)": "4"
                                },
                                {
                                    "szoba": "35",
                                    "nap": "13",
                                    "(No column name)": "2"
                                },
                                {
                                    "szoba": "35",
                                    "nap": "18",
                                    "(No column name)": "2"
                                },
                                {
                                    "szoba": "35",
                                    "nap": "Reszosszeg",
                                    "(No column name)": "9"
                                },
                                {
                                    "szoba": "36",
                                    "nap": "3",
                                    "(No column name)": "3"
                                },
                                {
                                    "szoba": "36",
                                    "nap": "Reszosszeg",
                                    "(No column name)": "6"
                                },
                                {
                                    "szoba": "37",
                                    "nap": "Reszosszeg",
                                    "(No column name)": "3"
                                },
                                {
                                    "szoba": "38",
                                    "nap": "Reszosszeg",
                                    "(No column name)": "8"
                                },
                                {
                                    "szoba": "39",
                                    "nap": "Reszosszeg",
                                    "(No column name)": "7"
                                },
                                {
                                    "szoba": "40",
                                    "nap": "7",
                                    "(No column name)": "2"
                                },
                                {
                                    "szoba": "40",
                                    "nap": "Reszosszeg",
                                    "(No column name)": "4"
                                },
                                {
                                    "szoba": "41",
                                    "nap": "Reszosszeg",
                                    "(No column name)": "2"
                                },
                                {
                                    "szoba": "42",
                                    "nap": "Reszosszeg",
                                    "(No column name)": "6"
                                },
                                {
                                    "szoba": "43",
                                    "nap": "Reszosszeg",
                                    "(No column name)": "8"
                                },
                                {
                                    "szoba": "44",
                                    "nap": "19",
                                    "(No column name)": "2"
                                },
                                {
                                    "szoba": "44",
                                    "nap": "Reszosszeg",
                                    "(No column name)": "6"
                                },
                                {
                                    "szoba": "45",
                                    "nap": "20",
                                    "(No column name)": "2"
                                },
                                {
                                    "szoba": "45",
                                    "nap": "Reszosszeg",
                                    "(No column name)": "5"
                                },
                                {
                                    "szoba": "46",
                                    "nap": "Reszosszeg",
                                    "(No column name)": "4"
                                },
                                {
                                    "szoba": "47",
                                    "nap": "Reszosszeg",
                                    "(No column name)": "2"
                                },
                                {
                                    "szoba": "48",
                                    "nap": "25",
                                    "(No column name)": "2"
                                },
                                {
                                    "szoba": "48",
                                    "nap": "Reszosszeg",
                                    "(No column name)": "9"
                                },
                                {
                                    "szoba": "49",
                                    "nap": "26",
                                    "(No column name)": "2"
                                },
                                {
                                    "szoba": "49",
                                    "nap": "Reszosszeg",
                                    "(No column name)": "7"
                                },
                                {
                                    "szoba": "50",
                                    "nap": "Reszosszeg",
                                    "(No column name)": "4"
                                },
                                {
                                    "szoba": "51",
                                    "nap": "28",
                                    "(No column name)": "2"
                                },
                                {
                                    "szoba": "51",
                                    "nap": "Reszosszeg",
                                    "(No column name)": "5"
                                },
                                {
                                    "szoba": "52",
                                    "nap": "Reszosszeg",
                                    "(No column name)": "5"
                                },
                                {
                                    "szoba": "53",
                                    "nap": "Reszosszeg",
                                    "(No column name)": "2"
                                },
                                {
                                    "szoba": "54",
                                    "nap": "Reszosszeg",
                                    "(No column name)": "6"
                                },
                                {
                                    "szoba": "55",
                                    "nap": "28",
                                    "(No column name)": "3"
                                },
                                {
                                    "szoba": "55",
                                    "nap": "Reszosszeg",
                                    "(No column name)": "8"
                                },
                                {
                                    "szoba": "56",
                                    "nap": "Reszosszeg",
                                    "(No column name)": "2"
                                },
                                {
                                    "szoba": "57",
                                    "nap": "6",
                                    "(No column name)": "2"
                                },
                                {
                                    "szoba": "57",
                                    "nap": "Reszosszeg",
                                    "(No column name)": "4"
                                },
                                {
                                    "szoba": "58",
                                    "nap": "23",
                                    "(No column name)": "2"
                                },
                                {
                                    "szoba": "58",
                                    "nap": "Reszosszeg",
                                    "(No column name)": "13"
                                },
                                {
                                    "szoba": "59",
                                    "nap": "25",
                                    "(No column name)": "2"
                                },
                                {
                                    "szoba": "59",
                                    "nap": "Reszosszeg",
                                    "(No column name)": "7"
                                },
                                {
                                    "szoba": "61",
                                    "nap": "Reszosszeg",
                                    "(No column name)": "5"
                                },
                                {
                                    "szoba": "62",
                                    "nap": "9",
                                    "(No column name)": "2"
                                },
                                {
                                    "szoba": "62",
                                    "nap": "Reszosszeg",
                                    "(No column name)": "5"
                                },
                                {
                                    "szoba": "63",
                                    "nap": "2",
                                    "(No column name)": "2"
                                },
                                {
                                    "szoba": "63",
                                    "nap": "Reszosszeg",
                                    "(No column name)": "4"
                                },
                                {
                                    "szoba": "64",
                                    "nap": "Reszosszeg",
                                    "(No column name)": "6"
                                },
                                {
                                    "szoba": "66",
                                    "nap": "Reszosszeg",
                                    "(No column name)": "4"
                                },
                                {
                                    "szoba": "67",
                                    "nap": "Reszosszeg",
                                    "(No column name)": "6"
                                },
                                {
                                    "szoba": "68",
                                    "nap": "Reszosszeg",
                                    "(No column name)": "3"
                                },
                                {
                                    "szoba": "69",
                                    "nap": "Reszosszeg",
                                    "(No column name)": "4"
                                },
                                {
                                    "szoba": "70",
                                    "nap": "27",
                                    "(No column name)": "2"
                                },
                                {
                                    "szoba": "70",
                                    "nap": "30",
                                    "(No column name)": "2"
                                },
                                {
                                    "szoba": "70",
                                    "nap": "Reszosszeg",
                                    "(No column name)": "11"
                                },
                                {
                                    "szoba": "71",
                                    "nap": "Reszosszeg",
                                    "(No column name)": "3"
                                },
                                {
                                    "szoba": "72",
                                    "nap": "25",
                                    "(No column name)": "2"
                                },
                                {
                                    "szoba": "72",
                                    "nap": "Reszosszeg",
                                    "(No column name)": "4"
                                },
                                {
                                    "szoba": "73",
                                    "nap": "Reszosszeg",
                                    "(No column name)": "4"
                                },
                                {
                                    "szoba": "74",
                                    "nap": "22",
                                    "(No column name)": "2"
                                },
                                {
                                    "szoba": "74",
                                    "nap": "30",
                                    "(No column name)": "2"
                                },
                                {
                                    "szoba": "74",
                                    "nap": "Reszosszeg",
                                    "(No column name)": "9"
                                },
                                {
                                    "szoba": "75",
                                    "nap": "Reszosszeg",
                                    "(No column name)": "3"
                                },
                                {
                                    "szoba": "76",
                                    "nap": "Reszosszeg",
                                    "(No column name)": "3"
                                },
                                {
                                    "szoba": "77",
                                    "nap": "Reszosszeg",
                                    "(No column name)": "6"
                                },
                                {
                                    "szoba": "78",
                                    "nap": "Reszosszeg",
                                    "(No column name)": "6"
                                },
                                {
                                    "szoba": "79",
                                    "nap": "16",
                                    "(No column name)": "2"
                                },
                                {
                                    "szoba": "79",
                                    "nap": "Reszosszeg",
                                    "(No column name)": "5"
                                },
                                {
                                    "szoba": "80",
                                    "nap": "Reszosszeg",
                                    "(No column name)": "7"
                                },
                                {
                                    "szoba": "81",
                                    "nap": "16",
                                    "(No column name)": "2"
                                },
                                {
                                    "szoba": "81",
                                    "nap": "Reszosszeg",
                                    "(No column name)": "5"
                                },
                                {
                                    "szoba": "82",
                                    "nap": "29",
                                    "(No column name)": "2"
                                },
                                {
                                    "szoba": "82",
                                    "nap": "Reszosszeg",
                                    "(No column name)": "6"
                                },
                                {
                                    "szoba": "83",
                                    "nap": "30",
                                    "(No column name)": "2"
                                },
                                {
                                    "szoba": "83",
                                    "nap": "Reszosszeg",
                                    "(No column name)": "8"
                                },
                                {
                                    "szoba": "84",
                                    "nap": "Reszosszeg",
                                    "(No column name)": "4"
                                },
                                {
                                    "szoba": "85",
                                    "nap": "Reszosszeg",
                                    "(No column name)": "4"
                                },
                                {
                                    "szoba": "86",
                                    "nap": "Reszosszeg",
                                    "(No column name)": "5"
                                },
                                {
                                    "szoba": "87",
                                    "nap": "6",
                                    "(No column name)": "2"
                                },
                                {
                                    "szoba": "87",
                                    "nap": "Reszosszeg",
                                    "(No column name)": "5"
                                },
                                {
                                    "szoba": "88",
                                    "nap": "26",
                                    "(No column name)": "2"
                                },
                                {
                                    "szoba": "88",
                                    "nap": "Reszosszeg",
                                    "(No column name)": "8"
                                },
                                {
                                    "szoba": "89",
                                    "nap": "24",
                                    "(No column name)": "2"
                                },
                                {
                                    "szoba": "89",
                                    "nap": "Reszosszeg",
                                    "(No column name)": "8"
                                },
                                {
                                    "szoba": "90",
                                    "nap": "21",
                                    "(No column name)": "2"
                                },
                                {
                                    "szoba": "90",
                                    "nap": "Reszosszeg",
                                    "(No column name)": "4"
                                },
                                {
                                    "szoba": "91",
                                    "nap": "28",
                                    "(No column name)": "2"
                                },
                                {
                                    "szoba": "91",
                                    "nap": "Reszosszeg",
                                    "(No column name)": "4"
                                },
                                {
                                    "szoba": "92",
                                    "nap": "Reszosszeg",
                                    "(No column name)": "6"
                                },
                                {
                                    "szoba": "93",
                                    "nap": "Reszosszeg",
                                    "(No column name)": "5"
                                },
                                {
                                    "szoba": "94",
                                    "nap": "23",
                                    "(No column name)": "2"
                                },
                                {
                                    "szoba": "94",
                                    "nap": "Reszosszeg",
                                    "(No column name)": "10"
                                },
                                {
                                    "szoba": "95",
                                    "nap": "Reszosszeg",
                                    "(No column name)": "4"
                                },
                                {
                                    "szoba": "96",
                                    "nap": "14",
                                    "(No column name)": "2"
                                },
                                {
                                    "szoba": "96",
                                    "nap": "Reszosszeg",
                                    "(No column name)": "7"
                                },
                                {
                                    "szoba": "97",
                                    "nap": "27",
                                    "(No column name)": "2"
                                },
                                {
                                    "szoba": "97",
                                    "nap": "Reszosszeg",
                                    "(No column name)": "7"
                                },
                                {
                                    "szoba": "98",
                                    "nap": "Reszosszeg",
                                    "(No column name)": "4"
                                },
                                {
                                    "szoba": "99",
                                    "nap": "20",
                                    "(No column name)": "2"
                                },
                                {
                                    "szoba": "99",
                                    "nap": "31",
                                    "(No column name)": "2"
                                },
                                {
                                    "szoba": "99",
                                    "nap": "Reszosszeg",
                                    "(No column name)": "5"
                                },
                                {
                                    "szoba": "100",
                                    "nap": "Reszosszeg",
                                    "(No column name)": "4"
                                },
                                {
                                    "szoba": "101",
                                    "nap": "Reszosszeg",
                                    "(No column name)": "3"
                                },
                                {
                                    "szoba": "102",
                                    "nap": "Reszosszeg",
                                    "(No column name)": "2"
                                },
                                {
                                    "szoba": "103",
                                    "nap": "Reszosszeg",
                                    "(No column name)": "4"
                                },
                                {
                                    "szoba": "104",
                                    "nap": "Reszosszeg",
                                    "(No column name)": "4"
                                },
                                {
                                    "szoba": "105",
                                    "nap": "Reszosszeg",
                                    "(No column name)": "2"
                                },
                                {
                                    "szoba": "106",
                                    "nap": "30",
                                    "(No column name)": "2"
                                },
                                {
                                    "szoba": "106",
                                    "nap": "Reszosszeg",
                                    "(No column name)": "6"
                                },
                                {
                                    "szoba": "107",
                                    "nap": "Reszosszeg",
                                    "(No column name)": "5"
                                },
                                {
                                    "szoba": "108",
                                    "nap": "Reszosszeg",
                                    "(No column name)": "2"
                                },
                                {
                                    "szoba": "109",
                                    "nap": "23",
                                    "(No column name)": "2"
                                },
                                {
                                    "szoba": "109",
                                    "nap": "Reszosszeg",
                                    "(No column name)": "7"
                                },
                                {
                                    "szoba": "110",
                                    "nap": "7",
                                    "(No column name)": "2"
                                },
                                {
                                    "szoba": "110",
                                    "nap": "Reszosszeg",
                                    "(No column name)": "8"
                                },
                                {
                                    "szoba": "111",
                                    "nap": "Reszosszeg",
                                    "(No column name)": "5"
                                },
                                {
                                    "szoba": "112",
                                    "nap": "6",
                                    "(No column name)": "2"
                                },
                                {
                                    "szoba": "112",
                                    "nap": "Reszosszeg",
                                    "(No column name)": "5"
                                },
                                {
                                    "szoba": "113",
                                    "nap": "5",
                                    "(No column name)": "2"
                                },
                                {
                                    "szoba": "113",
                                    "nap": "Reszosszeg",
                                    "(No column name)": "5"
                                },
                                {
                                    "szoba": "114",
                                    "nap": "16",
                                    "(No column name)": "2"
                                },
                                {
                                    "szoba": "114",
                                    "nap": "Reszosszeg",
                                    "(No column name)": "4"
                                },
                                {
                                    "szoba": "115",
                                    "nap": "Reszosszeg",
                                    "(No column name)": "7"
                                },
                                {
                                    "szoba": "116",
                                    "nap": "Reszosszeg",
                                    "(No column name)": "2"
                                },
                                {
                                    "szoba": "117",
                                    "nap": "Reszosszeg",
                                    "(No column name)": "8"
                                },
                                {
                                    "szoba": "118",
                                    "nap": "Reszosszeg",
                                    "(No column name)": "7"
                                },
                                {
                                    "szoba": "119",
                                    "nap": "Reszosszeg",
                                    "(No column name)": "5"
                                },
                                {
                                    "szoba": "120",
                                    "nap": "30",
                                    "(No column name)": "2"
                                },
                                {
                                    "szoba": "120",
                                    "nap": "Reszosszeg",
                                    "(No column name)": "6"
                                },
                                {
                                    "szoba": "121",
                                    "nap": "25",
                                    "(No column name)": "2"
                                },
                                {
                                    "szoba": "121",
                                    "nap": "Reszosszeg",
                                    "(No column name)": "8"
                                },
                                {
                                    "szoba": "122",
                                    "nap": "4",
                                    "(No column name)": "2"
                                },
                                {
                                    "szoba": "122",
                                    "nap": "Reszosszeg",
                                    "(No column name)": "9"
                                },
                                {
                                    "szoba": "123",
                                    "nap": "Reszosszeg",
                                    "(No column name)": "5"
                                },
                                {
                                    "szoba": "124",
                                    "nap": "29",
                                    "(No column name)": "2"
                                },
                                {
                                    "szoba": "124",
                                    "nap": "Reszosszeg",
                                    "(No column name)": "6"
                                },
                                {
                                    "szoba": "126",
                                    "nap": "Reszosszeg",
                                    "(No column name)": "6"
                                },
                                {
                                    "szoba": "127",
                                    "nap": "30",
                                    "(No column name)": "2"
                                },
                                {
                                    "szoba": "127",
                                    "nap": "Reszosszeg",
                                    "(No column name)": "7"
                                },
                                {
                                    "szoba": "128",
                                    "nap": "26",
                                    "(No column name)": "2"
                                },
                                {
                                    "szoba": "128",
                                    "nap": "Reszosszeg",
                                    "(No column name)": "5"
                                },
                                {
                                    "szoba": "129",
                                    "nap": "Reszosszeg",
                                    "(No column name)": "4"
                                },
                                {
                                    "szoba": "130",
                                    "nap": "Reszosszeg",
                                    "(No column name)": "6"
                                },
                                {
                                    "szoba": "131",
                                    "nap": "6",
                                    "(No column name)": "2"
                                },
                                {
                                    "szoba": "131",
                                    "nap": "Reszosszeg",
                                    "(No column name)": "5"
                                },
                                {
                                    "szoba": "132",
                                    "nap": "1",
                                    "(No column name)": "2"
                                },
                                {
                                    "szoba": "132",
                                    "nap": "Reszosszeg",
                                    "(No column name)": "6"
                                },
                                {
                                    "szoba": "133",
                                    "nap": "Reszosszeg",
                                    "(No column name)": "6"
                                },
                                {
                                    "szoba": "134",
                                    "nap": "Reszosszeg",
                                    "(No column name)": "6"
                                },
                                {
                                    "szoba": "135",
                                    "nap": "Reszosszeg",
                                    "(No column name)": "3"
                                },
                                {
                                    "szoba": "136",
                                    "nap": "Reszosszeg",
                                    "(No column name)": "3"
                                },
                                {
                                    "szoba": "137",
                                    "nap": "Reszosszeg",
                                    "(No column name)": "6"
                                },
                                {
                                    "szoba": "138",
                                    "nap": "17",
                                    "(No column name)": "2"
                                },
                                {
                                    "szoba": "138",
                                    "nap": "Reszosszeg",
                                    "(No column name)": "7"
                                },
                                {
                                    "szoba": "139",
                                    "nap": "Reszosszeg",
                                    "(No column name)": "7"
                                },
                                {
                                    "szoba": "140",
                                    "nap": "Reszosszeg",
                                    "(No column name)": "8"
                                },
                                {
                                    "szoba": "141",
                                    "nap": "6",
                                    "(No column name)": "2"
                                },
                                {
                                    "szoba": "141",
                                    "nap": "Reszosszeg",
                                    "(No column name)": "6"
                                },
                                {
                                    "szoba": "142",
                                    "nap": "17",
                                    "(No column name)": "2"
                                },
                                {
                                    "szoba": "142",
                                    "nap": "Reszosszeg",
                                    "(No column name)": "2"
                                },
                                {
                                    "szoba": "143",
                                    "nap": "23",
                                    "(No column name)": "2"
                                },
                                {
                                    "szoba": "143",
                                    "nap": "Reszosszeg",
                                    "(No column name)": "7"
                                },
                                {
                                    "szoba": "144",
                                    "nap": "Reszosszeg",
                                    "(No column name)": "5"
                                },
                                {
                                    "szoba": "145",
                                    "nap": "23",
                                    "(No column name)": "2"
                                },
                                {
                                    "szoba": "145",
                                    "nap": "Reszosszeg",
                                    "(No column name)": "6"
                                },
                                {
                                    "szoba": "146",
                                    "nap": "Reszosszeg",
                                    "(No column name)": "6"
                                },
                                {
                                    "szoba": "148",
                                    "nap": "23",
                                    "(No column name)": "2"
                                },
                                {
                                    "szoba": "148",
                                    "nap": "Reszosszeg",
                                    "(No column name)": "6"
                                },
                                {
                                    "szoba": "149",
                                    "nap": "Reszosszeg",
                                    "(No column name)": "7"
                                },
                                {
                                    "szoba": "150",
                                    "nap": "1",
                                    "(No column name)": "2"
                                },
                                {
                                    "szoba": "150",
                                    "nap": "Reszosszeg",
                                    "(No column name)": "6"
                                },
                                {
                                    "szoba": "151",
                                    "nap": "Reszosszeg",
                                    "(No column name)": "3"
                                },
                                {
                                    "szoba": "152",
                                    "nap": "Reszosszeg",
                                    "(No column name)": "4"
                                },
                                {
                                    "szoba": "153",
                                    "nap": "Reszosszeg",
                                    "(No column name)": "5"
                                },
                                {
                                    "szoba": "154",
                                    "nap": "16",
                                    "(No column name)": "2"
                                },
                                {
                                    "szoba": "154",
                                    "nap": "Reszosszeg",
                                    "(No column name)": "5"
                                },
                                {
                                    "szoba": "155",
                                    "nap": "Reszosszeg",
                                    "(No column name)": "5"
                                },
                                {
                                    "szoba": "156",
                                    "nap": "Reszosszeg",
                                    "(No column name)": "7"
                                },
                                {
                                    "szoba": "157",
                                    "nap": "Reszosszeg",
                                    "(No column name)": "5"
                                },
                                {
                                    "szoba": "158",
                                    "nap": "Reszosszeg",
                                    "(No column name)": "3"
                                },
                                {
                                    "szoba": "160",
                                    "nap": "7",
                                    "(No column name)": "2"
                                },
                                {
                                    "szoba": "160",
                                    "nap": "Reszosszeg",
                                    "(No column name)": "5"
                                },
                                {
                                    "szoba": "161",
                                    "nap": "Reszosszeg",
                                    "(No column name)": "6"
                                },
                                {
                                    "szoba": "162",
                                    "nap": "Reszosszeg",
                                    "(No column name)": "3"
                                },
                                {
                                    "szoba": "163",
                                    "nap": "1",
                                    "(No column name)": "2"
                                },
                                {
                                    "szoba": "163",
                                    "nap": "Reszosszeg",
                                    "(No column name)": "7"
                                },
                                {
                                    "szoba": "164",
                                    "nap": "Reszosszeg",
                                    "(No column name)": "5"
                                },
                                {
                                    "szoba": "165",
                                    "nap": "3",
                                    "(No column name)": "3"
                                },
                                {
                                    "szoba": "165",
                                    "nap": "Reszosszeg",
                                    "(No column name)": "7"
                                },
                                {
                                    "szoba": "166",
                                    "nap": "Reszosszeg",
                                    "(No column name)": "3"
                                },
                                {
                                    "szoba": "167",
                                    "nap": "Reszosszeg",
                                    "(No column name)": "2"
                                },
                                {
                                    "szoba": "168",
                                    "nap": "Reszosszeg",
                                    "(No column name)": "5"
                                },
                                {
                                    "szoba": "169",
                                    "nap": "9",
                                    "(No column name)": "2"
                                },
                                {
                                    "szoba": "169",
                                    "nap": "Reszosszeg",
                                    "(No column name)": "6"
                                },
                                {
                                    "szoba": "170",
                                    "nap": "10",
                                    "(No column name)": "2"
                                },
                                {
                                    "szoba": "170",
                                    "nap": "Reszosszeg",
                                    "(No column name)": "5"
                                },
                                {
                                    "szoba": "171",
                                    "nap": "23",
                                    "(No column name)": "2"
                                },
                                {
                                    "szoba": "171",
                                    "nap": "Reszosszeg",
                                    "(No column name)": "5"
                                },
                                {
                                    "szoba": "172",
                                    "nap": "2",
                                    "(No column name)": "2"
                                },
                                {
                                    "szoba": "172",
                                    "nap": "24",
                                    "(No column name)": "2"
                                },
                                {
                                    "szoba": "172",
                                    "nap": "Reszosszeg",
                                    "(No column name)": "9"
                                },
                                {
                                    "szoba": "173",
                                    "nap": "6",
                                    "(No column name)": "2"
                                },
                                {
                                    "szoba": "173",
                                    "nap": "Reszosszeg",
                                    "(No column name)": "4"
                                },
                                {
                                    "szoba": "174",
                                    "nap": "6",
                                    "(No column name)": "2"
                                },
                                {
                                    "szoba": "174",
                                    "nap": "Reszosszeg",
                                    "(No column name)": "4"
                                },
                                {
                                    "szoba": "175",
                                    "nap": "30",
                                    "(No column name)": "2"
                                },
                                {
                                    "szoba": "175",
                                    "nap": "Reszosszeg",
                                    "(No column name)": "5"
                                },
                                {
                                    "szoba": "176",
                                    "nap": "Reszosszeg",
                                    "(No column name)": "6"
                                },
                                {
                                    "szoba": "177",
                                    "nap": "Reszosszeg",
                                    "(No column name)": "4"
                                },
                                {
                                    "szoba": "178",
                                    "nap": "28",
                                    "(No column name)": "2"
                                },
                                {
                                    "szoba": "178",
                                    "nap": "Reszosszeg",
                                    "(No column name)": "4"
                                },
                                {
                                    "szoba": "179",
                                    "nap": "Reszosszeg",
                                    "(No column name)": "3"
                                },
                                {
                                    "szoba": "180",
                                    "nap": "Reszosszeg",
                                    "(No column name)": "3"
                                },
                                {
                                    "szoba": "181",
                                    "nap": "Reszosszeg",
                                    "(No column name)": "6"
                                },
                                {
                                    "szoba": "182",
                                    "nap": "30",
                                    "(No column name)": "3"
                                },
                                {
                                    "szoba": "182",
                                    "nap": "Reszosszeg",
                                    "(No column name)": "12"
                                },
                                {
                                    "szoba": "183",
                                    "nap": "Reszosszeg",
                                    "(No column name)": "4"
                                },
                                {
                                    "szoba": "184",
                                    "nap": "Reszosszeg",
                                    "(No column name)": "4"
                                },
                                {
                                    "szoba": "185",
                                    "nap": "Reszosszeg",
                                    "(No column name)": "12"
                                },
                                {
                                    "szoba": "186",
                                    "nap": "Reszosszeg",
                                    "(No column name)": "4"
                                },
                                {
                                    "szoba": "187",
                                    "nap": "Reszosszeg",
                                    "(No column name)": "7"
                                },
                                {
                                    "szoba": "188",
                                    "nap": "Reszosszeg",
                                    "(No column name)": "6"
                                },
                                {
                                    "szoba": "189",
                                    "nap": "Reszosszeg",
                                    "(No column name)": "5"
                                },
                                {
                                    "szoba": "190",
                                    "nap": "Reszosszeg",
                                    "(No column name)": "5"
                                },
                                {
                                    "szoba": "191",
                                    "nap": "Reszosszeg",
                                    "(No column name)": "5"
                                },
                                {
                                    "szoba": "192",
                                    "nap": "Reszosszeg",
                                    "(No column name)": "2"
                                },
                                {
                                    "szoba": "193",
                                    "nap": "Reszosszeg",
                                    "(No column name)": "7"
                                },
                                {
                                    "szoba": "195",
                                    "nap": "Reszosszeg",
                                    "(No column name)": "6"
                                },
                                {
                                    "szoba": "196",
                                    "nap": "Reszosszeg",
                                    "(No column name)": "4"
                                },
                                {
                                    "szoba": "197",
                                    "nap": "30",
                                    "(No column name)": "2"
                                },
                                {
                                    "szoba": "197",
                                    "nap": "Reszosszeg",
                                    "(No column name)": "6"
                                },
                                {
                                    "szoba": "198",
                                    "nap": "Reszosszeg",
                                    "(No column name)": "8"
                                },
                                {
                                    "szoba": "Vegosszeg",
                                    "nap": "Reszosszeg",
                                    "(No column name)": "1027"
                                },
                                {
                                    "szoba": "3",
                                    "nap": "16",
                                    "(No column name)": "2"
                                },
                                {
                                    "szoba": "7",
                                    "nap": "6",
                                    "(No column name)": "2"
                                },
                                {
                                    "szoba": "12",
                                    "nap": "9",
                                    "(No column name)": "3"
                                },
                                {
                                    "szoba": "15",
                                    "nap": "16",
                                    "(No column name)": "2"
                                },
                                {
                                    "szoba": "19",
                                    "nap": "14",
                                    "(No column name)": "2"
                                },
                                {
                                    "szoba": "20",
                                    "nap": "1",
                                    "(No column name)": "2"
                                },
                                {
                                    "szoba": "21",
                                    "nap": "21",
                                    "(No column name)": "2"
                                },
                                {
                                    "szoba": "25",
                                    "nap": "14",
                                    "(No column name)": "2"
                                },
                                {
                                    "szoba": "27",
                                    "nap": "5",
                                    "(No column name)": "2"
                                },
                                {
                                    "szoba": "29",
                                    "nap": "1",
                                    "(No column name)": "2"
                                },
                                {
                                    "szoba": "29",
                                    "nap": "23",
                                    "(No column name)": "2"
                                },
                                {
                                    "szoba": "31",
                                    "nap": "27",
                                    "(No column name)": "2"
                                },
                                {
                                    "szoba": "33",
                                    "nap": "5",
                                    "(No column name)": "2"
                                },
                                {
                                    "szoba": "35",
                                    "nap": "13",
                                    "(No column name)": "2"
                                },
                                {
                                    "szoba": "35",
                                    "nap": "18",
                                    "(No column name)": "2"
                                },
                                {
                                    "szoba": "36",
                                    "nap": "3",
                                    "(No column name)": "3"
                                },
                                {
                                    "szoba": "40",
                                    "nap": "7",
                                    "(No column name)": "2"
                                },
                                {
                                    "szoba": "44",
                                    "nap": "19",
                                    "(No column name)": "2"
                                },
                                {
                                    "szoba": "45",
                                    "nap": "20",
                                    "(No column name)": "2"
                                },
                                {
                                    "szoba": "48",
                                    "nap": "25",
                                    "(No column name)": "2"
                                },
                                {
                                    "szoba": "49",
                                    "nap": "26",
                                    "(No column name)": "2"
                                },
                                {
                                    "szoba": "51",
                                    "nap": "28",
                                    "(No column name)": "2"
                                },
                                {
                                    "szoba": "55",
                                    "nap": "28",
                                    "(No column name)": "3"
                                },
                                {
                                    "szoba": "57",
                                    "nap": "6",
                                    "(No column name)": "2"
                                },
                                {
                                    "szoba": "58",
                                    "nap": "23",
                                    "(No column name)": "2"
                                },
                                {
                                    "szoba": "59",
                                    "nap": "25",
                                    "(No column name)": "2"
                                },
                                {
                                    "szoba": "62",
                                    "nap": "9",
                                    "(No column name)": "2"
                                },
                                {
                                    "szoba": "63",
                                    "nap": "2",
                                    "(No column name)": "2"
                                },
                                {
                                    "szoba": "70",
                                    "nap": "27",
                                    "(No column name)": "2"
                                },
                                {
                                    "szoba": "70",
                                    "nap": "30",
                                    "(No column name)": "2"
                                },
                                {
                                    "szoba": "72",
                                    "nap": "25",
                                    "(No column name)": "2"
                                },
                                {
                                    "szoba": "74",
                                    "nap": "22",
                                    "(No column name)": "2"
                                },
                                {
                                    "szoba": "74",
                                    "nap": "30",
                                    "(No column name)": "2"
                                },
                                {
                                    "szoba": "79",
                                    "nap": "16",
                                    "(No column name)": "2"
                                },
                                {
                                    "szoba": "81",
                                    "nap": "16",
                                    "(No column name)": "2"
                                },
                                {
                                    "szoba": "82",
                                    "nap": "29",
                                    "(No column name)": "2"
                                },
                                {
                                    "szoba": "83",
                                    "nap": "30",
                                    "(No column name)": "2"
                                },
                                {
                                    "szoba": "87",
                                    "nap": "6",
                                    "(No column name)": "2"
                                },
                                {
                                    "szoba": "88",
                                    "nap": "26",
                                    "(No column name)": "2"
                                },
                                {
                                    "szoba": "89",
                                    "nap": "24",
                                    "(No column name)": "2"
                                },
                                {
                                    "szoba": "90",
                                    "nap": "21",
                                    "(No column name)": "2"
                                },
                                {
                                    "szoba": "91",
                                    "nap": "28",
                                    "(No column name)": "2"
                                },
                                {
                                    "szoba": "94",
                                    "nap": "23",
                                    "(No column name)": "2"
                                },
                                {
                                    "szoba": "96",
                                    "nap": "14",
                                    "(No column name)": "2"
                                },
                                {
                                    "szoba": "97",
                                    "nap": "27",
                                    "(No column name)": "2"
                                },
                                {
                                    "szoba": "99",
                                    "nap": "20",
                                    "(No column name)": "2"
                                },
                                {
                                    "szoba": "99",
                                    "nap": "31",
                                    "(No column name)": "2"
                                },
                                {
                                    "szoba": "106",
                                    "nap": "30",
                                    "(No column name)": "2"
                                },
                                {
                                    "szoba": "109",
                                    "nap": "23",
                                    "(No column name)": "2"
                                },
                                {
                                    "szoba": "110",
                                    "nap": "7",
                                    "(No column name)": "2"
                                },
                                {
                                    "szoba": "112",
                                    "nap": "6",
                                    "(No column name)": "2"
                                },
                                {
                                    "szoba": "113",
                                    "nap": "5",
                                    "(No column name)": "2"
                                },
                                {
                                    "szoba": "114",
                                    "nap": "16",
                                    "(No column name)": "2"
                                },
                                {
                                    "szoba": "120",
                                    "nap": "30",
                                    "(No column name)": "2"
                                },
                                {
                                    "szoba": "121",
                                    "nap": "25",
                                    "(No column name)": "2"
                                },
                                {
                                    "szoba": "122",
                                    "nap": "4",
                                    "(No column name)": "2"
                                },
                                {
                                    "szoba": "124",
                                    "nap": "29",
                                    "(No column name)": "2"
                                },
                                {
                                    "szoba": "127",
                                    "nap": "30",
                                    "(No column name)": "2"
                                },
                                {
                                    "szoba": "128",
                                    "nap": "26",
                                    "(No column name)": "2"
                                },
                                {
                                    "szoba": "131",
                                    "nap": "6",
                                    "(No column name)": "2"
                                },
                                {
                                    "szoba": "132",
                                    "nap": "1",
                                    "(No column name)": "2"
                                },
                                {
                                    "szoba": "138",
                                    "nap": "17",
                                    "(No column name)": "2"
                                },
                                {
                                    "szoba": "141",
                                    "nap": "6",
                                    "(No column name)": "2"
                                },
                                {
                                    "szoba": "142",
                                    "nap": "17",
                                    "(No column name)": "2"
                                },
                                {
                                    "szoba": "143",
                                    "nap": "23",
                                    "(No column name)": "2"
                                },
                                {
                                    "szoba": "145",
                                    "nap": "23",
                                    "(No column name)": "2"
                                },
                                {
                                    "szoba": "148",
                                    "nap": "23",
                                    "(No column name)": "2"
                                },
                                {
                                    "szoba": "150",
                                    "nap": "1",
                                    "(No column name)": "2"
                                },
                                {
                                    "szoba": "154",
                                    "nap": "16",
                                    "(No column name)": "2"
                                },
                                {
                                    "szoba": "160",
                                    "nap": "7",
                                    "(No column name)": "2"
                                },
                                {
                                    "szoba": "163",
                                    "nap": "1",
                                    "(No column name)": "2"
                                },
                                {
                                    "szoba": "165",
                                    "nap": "3",
                                    "(No column name)": "3"
                                },
                                {
                                    "szoba": "169",
                                    "nap": "9",
                                    "(No column name)": "2"
                                },
                                {
                                    "szoba": "170",
                                    "nap": "10",
                                    "(No column name)": "2"
                                },
                                {
                                    "szoba": "171",
                                    "nap": "23",
                                    "(No column name)": "2"
                                },
                                {
                                    "szoba": "172",
                                    "nap": "2",
                                    "(No column name)": "2"
                                },
                                {
                                    "szoba": "172",
                                    "nap": "24",
                                    "(No column name)": "2"
                                },
                                {
                                    "szoba": "173",
                                    "nap": "6",
                                    "(No column name)": "2"
                                },
                                {
                                    "szoba": "174",
                                    "nap": "6",
                                    "(No column name)": "2"
                                },
                                {
                                    "szoba": "175",
                                    "nap": "30",
                                    "(No column name)": "2"
                                },
                                {
                                    "szoba": "178",
                                    "nap": "28",
                                    "(No column name)": "2"
                                },
                                {
                                    "szoba": "182",
                                    "nap": "30",
                                    "(No column name)": "3"
                                },
                                {
                                    "szoba": "197",
                                    "nap": "30",
                                    "(No column name)": "2"
                                }
                            ]
                        },
                        "text/html": "<table><tr><th>szoba</th><th>nap</th><th>(No column name)</th></tr><tr><td>1</td><td>Reszosszeg</td><td>8</td></tr><tr><td>2</td><td>Reszosszeg</td><td>4</td></tr><tr><td>3</td><td>16</td><td>2</td></tr><tr><td>3</td><td>Reszosszeg</td><td>8</td></tr><tr><td>4</td><td>Reszosszeg</td><td>6</td></tr><tr><td>5</td><td>Reszosszeg</td><td>4</td></tr><tr><td>6</td><td>Reszosszeg</td><td>6</td></tr><tr><td>7</td><td>6</td><td>2</td></tr><tr><td>7</td><td>Reszosszeg</td><td>6</td></tr><tr><td>8</td><td>Reszosszeg</td><td>5</td></tr><tr><td>9</td><td>Reszosszeg</td><td>6</td></tr><tr><td>10</td><td>Reszosszeg</td><td>4</td></tr><tr><td>11</td><td>Reszosszeg</td><td>4</td></tr><tr><td>12</td><td>9</td><td>3</td></tr><tr><td>12</td><td>Reszosszeg</td><td>9</td></tr><tr><td>13</td><td>Reszosszeg</td><td>4</td></tr><tr><td>14</td><td>Reszosszeg</td><td>3</td></tr><tr><td>15</td><td>16</td><td>2</td></tr><tr><td>15</td><td>Reszosszeg</td><td>6</td></tr><tr><td>16</td><td>Reszosszeg</td><td>5</td></tr><tr><td>17</td><td>Reszosszeg</td><td>6</td></tr><tr><td>18</td><td>Reszosszeg</td><td>6</td></tr><tr><td>19</td><td>14</td><td>2</td></tr><tr><td>19</td><td>Reszosszeg</td><td>6</td></tr><tr><td>20</td><td>1</td><td>2</td></tr><tr><td>20</td><td>Reszosszeg</td><td>5</td></tr><tr><td>21</td><td>21</td><td>2</td></tr><tr><td>21</td><td>Reszosszeg</td><td>4</td></tr><tr><td>22</td><td>Reszosszeg</td><td>6</td></tr><tr><td>23</td><td>Reszosszeg</td><td>3</td></tr><tr><td>24</td><td>Reszosszeg</td><td>3</td></tr><tr><td>25</td><td>14</td><td>2</td></tr><tr><td>25</td><td>Reszosszeg</td><td>2</td></tr><tr><td>26</td><td>Reszosszeg</td><td>2</td></tr><tr><td>27</td><td>5</td><td>2</td></tr><tr><td>27</td><td>Reszosszeg</td><td>7</td></tr><tr><td>28</td><td>Reszosszeg</td><td>6</td></tr><tr><td>29</td><td>1</td><td>2</td></tr><tr><td>29</td><td>23</td><td>2</td></tr><tr><td>29</td><td>Reszosszeg</td><td>6</td></tr><tr><td>30</td><td>Reszosszeg</td><td>3</td></tr><tr><td>31</td><td>27</td><td>2</td></tr><tr><td>31</td><td>Reszosszeg</td><td>3</td></tr><tr><td>33</td><td>5</td><td>2</td></tr><tr><td>33</td><td>Reszosszeg</td><td>6</td></tr><tr><td>34</td><td>Reszosszeg</td><td>4</td></tr><tr><td>35</td><td>13</td><td>2</td></tr><tr><td>35</td><td>18</td><td>2</td></tr><tr><td>35</td><td>Reszosszeg</td><td>9</td></tr><tr><td>36</td><td>3</td><td>3</td></tr><tr><td>36</td><td>Reszosszeg</td><td>6</td></tr><tr><td>37</td><td>Reszosszeg</td><td>3</td></tr><tr><td>38</td><td>Reszosszeg</td><td>8</td></tr><tr><td>39</td><td>Reszosszeg</td><td>7</td></tr><tr><td>40</td><td>7</td><td>2</td></tr><tr><td>40</td><td>Reszosszeg</td><td>4</td></tr><tr><td>41</td><td>Reszosszeg</td><td>2</td></tr><tr><td>42</td><td>Reszosszeg</td><td>6</td></tr><tr><td>43</td><td>Reszosszeg</td><td>8</td></tr><tr><td>44</td><td>19</td><td>2</td></tr><tr><td>44</td><td>Reszosszeg</td><td>6</td></tr><tr><td>45</td><td>20</td><td>2</td></tr><tr><td>45</td><td>Reszosszeg</td><td>5</td></tr><tr><td>46</td><td>Reszosszeg</td><td>4</td></tr><tr><td>47</td><td>Reszosszeg</td><td>2</td></tr><tr><td>48</td><td>25</td><td>2</td></tr><tr><td>48</td><td>Reszosszeg</td><td>9</td></tr><tr><td>49</td><td>26</td><td>2</td></tr><tr><td>49</td><td>Reszosszeg</td><td>7</td></tr><tr><td>50</td><td>Reszosszeg</td><td>4</td></tr><tr><td>51</td><td>28</td><td>2</td></tr><tr><td>51</td><td>Reszosszeg</td><td>5</td></tr><tr><td>52</td><td>Reszosszeg</td><td>5</td></tr><tr><td>53</td><td>Reszosszeg</td><td>2</td></tr><tr><td>54</td><td>Reszosszeg</td><td>6</td></tr><tr><td>55</td><td>28</td><td>3</td></tr><tr><td>55</td><td>Reszosszeg</td><td>8</td></tr><tr><td>56</td><td>Reszosszeg</td><td>2</td></tr><tr><td>57</td><td>6</td><td>2</td></tr><tr><td>57</td><td>Reszosszeg</td><td>4</td></tr><tr><td>58</td><td>23</td><td>2</td></tr><tr><td>58</td><td>Reszosszeg</td><td>13</td></tr><tr><td>59</td><td>25</td><td>2</td></tr><tr><td>59</td><td>Reszosszeg</td><td>7</td></tr><tr><td>61</td><td>Reszosszeg</td><td>5</td></tr><tr><td>62</td><td>9</td><td>2</td></tr><tr><td>62</td><td>Reszosszeg</td><td>5</td></tr><tr><td>63</td><td>2</td><td>2</td></tr><tr><td>63</td><td>Reszosszeg</td><td>4</td></tr><tr><td>64</td><td>Reszosszeg</td><td>6</td></tr><tr><td>66</td><td>Reszosszeg</td><td>4</td></tr><tr><td>67</td><td>Reszosszeg</td><td>6</td></tr><tr><td>68</td><td>Reszosszeg</td><td>3</td></tr><tr><td>69</td><td>Reszosszeg</td><td>4</td></tr><tr><td>70</td><td>27</td><td>2</td></tr><tr><td>70</td><td>30</td><td>2</td></tr><tr><td>70</td><td>Reszosszeg</td><td>11</td></tr><tr><td>71</td><td>Reszosszeg</td><td>3</td></tr><tr><td>72</td><td>25</td><td>2</td></tr><tr><td>72</td><td>Reszosszeg</td><td>4</td></tr><tr><td>73</td><td>Reszosszeg</td><td>4</td></tr><tr><td>74</td><td>22</td><td>2</td></tr><tr><td>74</td><td>30</td><td>2</td></tr><tr><td>74</td><td>Reszosszeg</td><td>9</td></tr><tr><td>75</td><td>Reszosszeg</td><td>3</td></tr><tr><td>76</td><td>Reszosszeg</td><td>3</td></tr><tr><td>77</td><td>Reszosszeg</td><td>6</td></tr><tr><td>78</td><td>Reszosszeg</td><td>6</td></tr><tr><td>79</td><td>16</td><td>2</td></tr><tr><td>79</td><td>Reszosszeg</td><td>5</td></tr><tr><td>80</td><td>Reszosszeg</td><td>7</td></tr><tr><td>81</td><td>16</td><td>2</td></tr><tr><td>81</td><td>Reszosszeg</td><td>5</td></tr><tr><td>82</td><td>29</td><td>2</td></tr><tr><td>82</td><td>Reszosszeg</td><td>6</td></tr><tr><td>83</td><td>30</td><td>2</td></tr><tr><td>83</td><td>Reszosszeg</td><td>8</td></tr><tr><td>84</td><td>Reszosszeg</td><td>4</td></tr><tr><td>85</td><td>Reszosszeg</td><td>4</td></tr><tr><td>86</td><td>Reszosszeg</td><td>5</td></tr><tr><td>87</td><td>6</td><td>2</td></tr><tr><td>87</td><td>Reszosszeg</td><td>5</td></tr><tr><td>88</td><td>26</td><td>2</td></tr><tr><td>88</td><td>Reszosszeg</td><td>8</td></tr><tr><td>89</td><td>24</td><td>2</td></tr><tr><td>89</td><td>Reszosszeg</td><td>8</td></tr><tr><td>90</td><td>21</td><td>2</td></tr><tr><td>90</td><td>Reszosszeg</td><td>4</td></tr><tr><td>91</td><td>28</td><td>2</td></tr><tr><td>91</td><td>Reszosszeg</td><td>4</td></tr><tr><td>92</td><td>Reszosszeg</td><td>6</td></tr><tr><td>93</td><td>Reszosszeg</td><td>5</td></tr><tr><td>94</td><td>23</td><td>2</td></tr><tr><td>94</td><td>Reszosszeg</td><td>10</td></tr><tr><td>95</td><td>Reszosszeg</td><td>4</td></tr><tr><td>96</td><td>14</td><td>2</td></tr><tr><td>96</td><td>Reszosszeg</td><td>7</td></tr><tr><td>97</td><td>27</td><td>2</td></tr><tr><td>97</td><td>Reszosszeg</td><td>7</td></tr><tr><td>98</td><td>Reszosszeg</td><td>4</td></tr><tr><td>99</td><td>20</td><td>2</td></tr><tr><td>99</td><td>31</td><td>2</td></tr><tr><td>99</td><td>Reszosszeg</td><td>5</td></tr><tr><td>100</td><td>Reszosszeg</td><td>4</td></tr><tr><td>101</td><td>Reszosszeg</td><td>3</td></tr><tr><td>102</td><td>Reszosszeg</td><td>2</td></tr><tr><td>103</td><td>Reszosszeg</td><td>4</td></tr><tr><td>104</td><td>Reszosszeg</td><td>4</td></tr><tr><td>105</td><td>Reszosszeg</td><td>2</td></tr><tr><td>106</td><td>30</td><td>2</td></tr><tr><td>106</td><td>Reszosszeg</td><td>6</td></tr><tr><td>107</td><td>Reszosszeg</td><td>5</td></tr><tr><td>108</td><td>Reszosszeg</td><td>2</td></tr><tr><td>109</td><td>23</td><td>2</td></tr><tr><td>109</td><td>Reszosszeg</td><td>7</td></tr><tr><td>110</td><td>7</td><td>2</td></tr><tr><td>110</td><td>Reszosszeg</td><td>8</td></tr><tr><td>111</td><td>Reszosszeg</td><td>5</td></tr><tr><td>112</td><td>6</td><td>2</td></tr><tr><td>112</td><td>Reszosszeg</td><td>5</td></tr><tr><td>113</td><td>5</td><td>2</td></tr><tr><td>113</td><td>Reszosszeg</td><td>5</td></tr><tr><td>114</td><td>16</td><td>2</td></tr><tr><td>114</td><td>Reszosszeg</td><td>4</td></tr><tr><td>115</td><td>Reszosszeg</td><td>7</td></tr><tr><td>116</td><td>Reszosszeg</td><td>2</td></tr><tr><td>117</td><td>Reszosszeg</td><td>8</td></tr><tr><td>118</td><td>Reszosszeg</td><td>7</td></tr><tr><td>119</td><td>Reszosszeg</td><td>5</td></tr><tr><td>120</td><td>30</td><td>2</td></tr><tr><td>120</td><td>Reszosszeg</td><td>6</td></tr><tr><td>121</td><td>25</td><td>2</td></tr><tr><td>121</td><td>Reszosszeg</td><td>8</td></tr><tr><td>122</td><td>4</td><td>2</td></tr><tr><td>122</td><td>Reszosszeg</td><td>9</td></tr><tr><td>123</td><td>Reszosszeg</td><td>5</td></tr><tr><td>124</td><td>29</td><td>2</td></tr><tr><td>124</td><td>Reszosszeg</td><td>6</td></tr><tr><td>126</td><td>Reszosszeg</td><td>6</td></tr><tr><td>127</td><td>30</td><td>2</td></tr><tr><td>127</td><td>Reszosszeg</td><td>7</td></tr><tr><td>128</td><td>26</td><td>2</td></tr><tr><td>128</td><td>Reszosszeg</td><td>5</td></tr><tr><td>129</td><td>Reszosszeg</td><td>4</td></tr><tr><td>130</td><td>Reszosszeg</td><td>6</td></tr><tr><td>131</td><td>6</td><td>2</td></tr><tr><td>131</td><td>Reszosszeg</td><td>5</td></tr><tr><td>132</td><td>1</td><td>2</td></tr><tr><td>132</td><td>Reszosszeg</td><td>6</td></tr><tr><td>133</td><td>Reszosszeg</td><td>6</td></tr><tr><td>134</td><td>Reszosszeg</td><td>6</td></tr><tr><td>135</td><td>Reszosszeg</td><td>3</td></tr><tr><td>136</td><td>Reszosszeg</td><td>3</td></tr><tr><td>137</td><td>Reszosszeg</td><td>6</td></tr><tr><td>138</td><td>17</td><td>2</td></tr><tr><td>138</td><td>Reszosszeg</td><td>7</td></tr><tr><td>139</td><td>Reszosszeg</td><td>7</td></tr><tr><td>140</td><td>Reszosszeg</td><td>8</td></tr><tr><td>141</td><td>6</td><td>2</td></tr><tr><td>141</td><td>Reszosszeg</td><td>6</td></tr><tr><td>142</td><td>17</td><td>2</td></tr><tr><td>142</td><td>Reszosszeg</td><td>2</td></tr><tr><td>143</td><td>23</td><td>2</td></tr><tr><td>143</td><td>Reszosszeg</td><td>7</td></tr><tr><td>144</td><td>Reszosszeg</td><td>5</td></tr><tr><td>145</td><td>23</td><td>2</td></tr><tr><td>145</td><td>Reszosszeg</td><td>6</td></tr><tr><td>146</td><td>Reszosszeg</td><td>6</td></tr><tr><td>148</td><td>23</td><td>2</td></tr><tr><td>148</td><td>Reszosszeg</td><td>6</td></tr><tr><td>149</td><td>Reszosszeg</td><td>7</td></tr><tr><td>150</td><td>1</td><td>2</td></tr><tr><td>150</td><td>Reszosszeg</td><td>6</td></tr><tr><td>151</td><td>Reszosszeg</td><td>3</td></tr><tr><td>152</td><td>Reszosszeg</td><td>4</td></tr><tr><td>153</td><td>Reszosszeg</td><td>5</td></tr><tr><td>154</td><td>16</td><td>2</td></tr><tr><td>154</td><td>Reszosszeg</td><td>5</td></tr><tr><td>155</td><td>Reszosszeg</td><td>5</td></tr><tr><td>156</td><td>Reszosszeg</td><td>7</td></tr><tr><td>157</td><td>Reszosszeg</td><td>5</td></tr><tr><td>158</td><td>Reszosszeg</td><td>3</td></tr><tr><td>160</td><td>7</td><td>2</td></tr><tr><td>160</td><td>Reszosszeg</td><td>5</td></tr><tr><td>161</td><td>Reszosszeg</td><td>6</td></tr><tr><td>162</td><td>Reszosszeg</td><td>3</td></tr><tr><td>163</td><td>1</td><td>2</td></tr><tr><td>163</td><td>Reszosszeg</td><td>7</td></tr><tr><td>164</td><td>Reszosszeg</td><td>5</td></tr><tr><td>165</td><td>3</td><td>3</td></tr><tr><td>165</td><td>Reszosszeg</td><td>7</td></tr><tr><td>166</td><td>Reszosszeg</td><td>3</td></tr><tr><td>167</td><td>Reszosszeg</td><td>2</td></tr><tr><td>168</td><td>Reszosszeg</td><td>5</td></tr><tr><td>169</td><td>9</td><td>2</td></tr><tr><td>169</td><td>Reszosszeg</td><td>6</td></tr><tr><td>170</td><td>10</td><td>2</td></tr><tr><td>170</td><td>Reszosszeg</td><td>5</td></tr><tr><td>171</td><td>23</td><td>2</td></tr><tr><td>171</td><td>Reszosszeg</td><td>5</td></tr><tr><td>172</td><td>2</td><td>2</td></tr><tr><td>172</td><td>24</td><td>2</td></tr><tr><td>172</td><td>Reszosszeg</td><td>9</td></tr><tr><td>173</td><td>6</td><td>2</td></tr><tr><td>173</td><td>Reszosszeg</td><td>4</td></tr><tr><td>174</td><td>6</td><td>2</td></tr><tr><td>174</td><td>Reszosszeg</td><td>4</td></tr><tr><td>175</td><td>30</td><td>2</td></tr><tr><td>175</td><td>Reszosszeg</td><td>5</td></tr><tr><td>176</td><td>Reszosszeg</td><td>6</td></tr><tr><td>177</td><td>Reszosszeg</td><td>4</td></tr><tr><td>178</td><td>28</td><td>2</td></tr><tr><td>178</td><td>Reszosszeg</td><td>4</td></tr><tr><td>179</td><td>Reszosszeg</td><td>3</td></tr><tr><td>180</td><td>Reszosszeg</td><td>3</td></tr><tr><td>181</td><td>Reszosszeg</td><td>6</td></tr><tr><td>182</td><td>30</td><td>3</td></tr><tr><td>182</td><td>Reszosszeg</td><td>12</td></tr><tr><td>183</td><td>Reszosszeg</td><td>4</td></tr><tr><td>184</td><td>Reszosszeg</td><td>4</td></tr><tr><td>185</td><td>Reszosszeg</td><td>12</td></tr><tr><td>186</td><td>Reszosszeg</td><td>4</td></tr><tr><td>187</td><td>Reszosszeg</td><td>7</td></tr><tr><td>188</td><td>Reszosszeg</td><td>6</td></tr><tr><td>189</td><td>Reszosszeg</td><td>5</td></tr><tr><td>190</td><td>Reszosszeg</td><td>5</td></tr><tr><td>191</td><td>Reszosszeg</td><td>5</td></tr><tr><td>192</td><td>Reszosszeg</td><td>2</td></tr><tr><td>193</td><td>Reszosszeg</td><td>7</td></tr><tr><td>195</td><td>Reszosszeg</td><td>6</td></tr><tr><td>196</td><td>Reszosszeg</td><td>4</td></tr><tr><td>197</td><td>30</td><td>2</td></tr><tr><td>197</td><td>Reszosszeg</td><td>6</td></tr><tr><td>198</td><td>Reszosszeg</td><td>8</td></tr><tr><td>Vegosszeg</td><td>Reszosszeg</td><td>1027</td></tr><tr><td>3</td><td>16</td><td>2</td></tr><tr><td>7</td><td>6</td><td>2</td></tr><tr><td>12</td><td>9</td><td>3</td></tr><tr><td>15</td><td>16</td><td>2</td></tr><tr><td>19</td><td>14</td><td>2</td></tr><tr><td>20</td><td>1</td><td>2</td></tr><tr><td>21</td><td>21</td><td>2</td></tr><tr><td>25</td><td>14</td><td>2</td></tr><tr><td>27</td><td>5</td><td>2</td></tr><tr><td>29</td><td>1</td><td>2</td></tr><tr><td>29</td><td>23</td><td>2</td></tr><tr><td>31</td><td>27</td><td>2</td></tr><tr><td>33</td><td>5</td><td>2</td></tr><tr><td>35</td><td>13</td><td>2</td></tr><tr><td>35</td><td>18</td><td>2</td></tr><tr><td>36</td><td>3</td><td>3</td></tr><tr><td>40</td><td>7</td><td>2</td></tr><tr><td>44</td><td>19</td><td>2</td></tr><tr><td>45</td><td>20</td><td>2</td></tr><tr><td>48</td><td>25</td><td>2</td></tr><tr><td>49</td><td>26</td><td>2</td></tr><tr><td>51</td><td>28</td><td>2</td></tr><tr><td>55</td><td>28</td><td>3</td></tr><tr><td>57</td><td>6</td><td>2</td></tr><tr><td>58</td><td>23</td><td>2</td></tr><tr><td>59</td><td>25</td><td>2</td></tr><tr><td>62</td><td>9</td><td>2</td></tr><tr><td>63</td><td>2</td><td>2</td></tr><tr><td>70</td><td>27</td><td>2</td></tr><tr><td>70</td><td>30</td><td>2</td></tr><tr><td>72</td><td>25</td><td>2</td></tr><tr><td>74</td><td>22</td><td>2</td></tr><tr><td>74</td><td>30</td><td>2</td></tr><tr><td>79</td><td>16</td><td>2</td></tr><tr><td>81</td><td>16</td><td>2</td></tr><tr><td>82</td><td>29</td><td>2</td></tr><tr><td>83</td><td>30</td><td>2</td></tr><tr><td>87</td><td>6</td><td>2</td></tr><tr><td>88</td><td>26</td><td>2</td></tr><tr><td>89</td><td>24</td><td>2</td></tr><tr><td>90</td><td>21</td><td>2</td></tr><tr><td>91</td><td>28</td><td>2</td></tr><tr><td>94</td><td>23</td><td>2</td></tr><tr><td>96</td><td>14</td><td>2</td></tr><tr><td>97</td><td>27</td><td>2</td></tr><tr><td>99</td><td>20</td><td>2</td></tr><tr><td>99</td><td>31</td><td>2</td></tr><tr><td>106</td><td>30</td><td>2</td></tr><tr><td>109</td><td>23</td><td>2</td></tr><tr><td>110</td><td>7</td><td>2</td></tr><tr><td>112</td><td>6</td><td>2</td></tr><tr><td>113</td><td>5</td><td>2</td></tr><tr><td>114</td><td>16</td><td>2</td></tr><tr><td>120</td><td>30</td><td>2</td></tr><tr><td>121</td><td>25</td><td>2</td></tr><tr><td>122</td><td>4</td><td>2</td></tr><tr><td>124</td><td>29</td><td>2</td></tr><tr><td>127</td><td>30</td><td>2</td></tr><tr><td>128</td><td>26</td><td>2</td></tr><tr><td>131</td><td>6</td><td>2</td></tr><tr><td>132</td><td>1</td><td>2</td></tr><tr><td>138</td><td>17</td><td>2</td></tr><tr><td>141</td><td>6</td><td>2</td></tr><tr><td>142</td><td>17</td><td>2</td></tr><tr><td>143</td><td>23</td><td>2</td></tr><tr><td>145</td><td>23</td><td>2</td></tr><tr><td>148</td><td>23</td><td>2</td></tr><tr><td>150</td><td>1</td><td>2</td></tr><tr><td>154</td><td>16</td><td>2</td></tr><tr><td>160</td><td>7</td><td>2</td></tr><tr><td>163</td><td>1</td><td>2</td></tr><tr><td>165</td><td>3</td><td>3</td></tr><tr><td>169</td><td>9</td><td>2</td></tr><tr><td>170</td><td>10</td><td>2</td></tr><tr><td>171</td><td>23</td><td>2</td></tr><tr><td>172</td><td>2</td><td>2</td></tr><tr><td>172</td><td>24</td><td>2</td></tr><tr><td>173</td><td>6</td><td>2</td></tr><tr><td>174</td><td>6</td><td>2</td></tr><tr><td>175</td><td>30</td><td>2</td></tr><tr><td>178</td><td>28</td><td>2</td></tr><tr><td>182</td><td>30</td><td>3</td></tr><tr><td>197</td><td>30</td><td>2</td></tr></table>"
                    },
                    "metadata": {}
                }
            ],
            "execution_count": 13
        },
        {
            "cell_type": "code",
            "source": [
                "create table #MASKED_GUEST \r\n",
                "(\r\n",
                "    usernev nvarchar(20) primary key,\r\n",
                "    nev nvarchar(50) masked with (function = 'partial(2, \"XXX\", 3)'),\r\n",
                "    email nvarchar(60),\r\n",
                "    szaml_cim nvarchar(100),\r\n",
                "    szul_dat date\r\n",
                ")"
            ],
            "metadata": {
                "language": "sql",
                "azdata_cell_guid": "024bd3c7-4ce2-401f-b387-9c11883e2e34"
            },
            "outputs": [
                {
                    "output_type": "display_data",
                    "data": {
                        "text/html": "Commands completed successfully."
                    },
                    "metadata": {}
                },
                {
                    "output_type": "display_data",
                    "data": {
                        "text/html": "Total execution time: 00:00:00.002"
                    },
                    "metadata": {}
                }
            ],
            "execution_count": 14
        },
        {
            "cell_type": "code",
            "source": [
                "hset iro:1 id 1 nev 'Toth Otto' nemzetiseg magyar;\r\n",
                "hset iro:2 id 2 nev 'Kiss Janos' nemzetiseg roman;\r\n",
                "hset konyv:1:1 id 1 cim Adatok mufaj regeny iro_id;\r\n",
                "hset konyv:2:2 id 2 cim Bazisok mufaj novella iro_id;\r\n",
                ""
            ],
            "metadata": {
                "language": "sql",
                "azdata_cell_guid": "8f1a0657-f8d5-4558-bfe7-8c9e279d4fc4"
            },
            "outputs": [],
            "execution_count": null
        },
        {
            "cell_type": "code",
            "source": [
                "create table student\r\n",
                "(\r\n",
                "    id int primary key,\r\n",
                "    nev text,\r\n",
                "    teljesitett_felevek list<int>,\r\n",
                "    eredmenyek map<int, float>,\r\n",
                "    nyelvtudas set<text>\r\n",
                ");\r\n",
                "insert into student (id, nev, teljesitett_felevek, eredmenyek, nyelvtudas) \r\n",
                "    values (1, 'Kiss Janos', [1, 2], {1: 3.00, 2: 4.55, 3: 4.10}, {'angol', 'nemet'});\r\n",
                "insert into student (id, nev, teljesitett_felevek, eredmenyek, nyelvtudas) \r\n",
                "    values (2, 'Toth Otto', [1, 2, 3], {1: 4.00, 2: 4.75, 3: 4.50}, {'angol', 'francia'});\r\n",
                ""
            ],
            "metadata": {
                "language": "sql",
                "azdata_cell_guid": "7b834ffa-7eed-48e6-a027-4a522280e24f"
            },
            "outputs": [],
            "execution_count": null
        },
        {
            "cell_type": "code",
            "source": [
                "match (p:Person {name: 'Tom Hanks'}) - [:ACTED_IN] -> (m:Movie) <- [:ACTED_IN] - (p2:Person)\r\n",
                "where p2.name <> 'Tom Hanks'\r\n",
                "return distinct p2.name\r\n",
                ""
            ],
            "metadata": {
                "language": "sql",
                "azdata_cell_guid": "268eff83-00e8-4f86-bee3-84a8ba8369b3"
            },
            "outputs": [],
            "execution_count": null
        }
    ]
}